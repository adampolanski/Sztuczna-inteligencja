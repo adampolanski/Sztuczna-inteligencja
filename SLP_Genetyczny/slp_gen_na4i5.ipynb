{
 "cells": [
  {
   "attachments": {},
   "cell_type": "markdown",
   "metadata": {},
   "source": [
    "# Uczenie SLP z wykorzystaniem algorytmu genetycznego - część 2\n",
    "\n",
    "Ten plik zawiera notatnik, w którym wykonuje zadania na ocene 4 i 5.\n",
    "\n",
    "---"
   ]
  },
  {
   "attachments": {},
   "cell_type": "markdown",
   "metadata": {},
   "source": [
    "## Przygotowanie środowiska."
   ]
  },
  {
   "attachments": {},
   "cell_type": "markdown",
   "metadata": {},
   "source": [
    "Importuję potrzebne biblioteki."
   ]
  },
  {
   "cell_type": "code",
   "execution_count": null,
   "metadata": {},
   "outputs": [],
   "source": [
    "import numpy as np\n",
    "import pandas as pd\n",
    "import matplotlib.pyplot as plt\n",
    "import random\n",
    "\n",
    "%matplotlib inline"
   ]
  },
  {
   "attachments": {},
   "cell_type": "markdown",
   "metadata": {},
   "source": [
    "Pobieram dane i wyświetlam wszystkie zakodowane litery jak i wektory odpowiedzi, przypisane do mnie."
   ]
  },
  {
   "cell_type": "code",
   "execution_count": 1,
   "metadata": {},
   "outputs": [
    {
     "name": "stdout",
     "output_type": "stream",
     "text": [
      "File: letters.data\n",
      "[2, 4, 8, 9, 12, 13, 14, 17, 20, 23]\n"
     ]
    },
    {
     "data": {
      "text/html": [
       "<div>\n",
       "<style scoped>\n",
       "    .dataframe tbody tr th:only-of-type {\n",
       "        vertical-align: middle;\n",
       "    }\n",
       "\n",
       "    .dataframe tbody tr th {\n",
       "        vertical-align: top;\n",
       "    }\n",
       "\n",
       "    .dataframe thead th {\n",
       "        text-align: right;\n",
       "    }\n",
       "</style>\n",
       "<table border=\"1\" class=\"dataframe\">\n",
       "  <thead>\n",
       "    <tr style=\"text-align: right;\">\n",
       "      <th></th>\n",
       "      <th>0</th>\n",
       "      <th>1</th>\n",
       "      <th>2</th>\n",
       "      <th>3</th>\n",
       "      <th>4</th>\n",
       "      <th>5</th>\n",
       "      <th>6</th>\n",
       "      <th>7</th>\n",
       "      <th>8</th>\n",
       "      <th>9</th>\n",
       "      <th>...</th>\n",
       "      <th>51</th>\n",
       "      <th>52</th>\n",
       "      <th>53</th>\n",
       "      <th>54</th>\n",
       "      <th>55</th>\n",
       "      <th>56</th>\n",
       "      <th>57</th>\n",
       "      <th>58</th>\n",
       "      <th>59</th>\n",
       "      <th>60</th>\n",
       "    </tr>\n",
       "  </thead>\n",
       "  <tbody>\n",
       "    <tr>\n",
       "      <th>2</th>\n",
       "      <td>-1</td>\n",
       "      <td>1</td>\n",
       "      <td>1</td>\n",
       "      <td>1</td>\n",
       "      <td>-1</td>\n",
       "      <td>1</td>\n",
       "      <td>-1</td>\n",
       "      <td>-1</td>\n",
       "      <td>-1</td>\n",
       "      <td>1</td>\n",
       "      <td>...</td>\n",
       "      <td>-1</td>\n",
       "      <td>-1</td>\n",
       "      <td>-1</td>\n",
       "      <td>-1</td>\n",
       "      <td>-1</td>\n",
       "      <td>-1</td>\n",
       "      <td>-1</td>\n",
       "      <td>-1</td>\n",
       "      <td>-1</td>\n",
       "      <td>-1</td>\n",
       "    </tr>\n",
       "    <tr>\n",
       "      <th>4</th>\n",
       "      <td>1</td>\n",
       "      <td>1</td>\n",
       "      <td>1</td>\n",
       "      <td>1</td>\n",
       "      <td>1</td>\n",
       "      <td>1</td>\n",
       "      <td>-1</td>\n",
       "      <td>-1</td>\n",
       "      <td>-1</td>\n",
       "      <td>-1</td>\n",
       "      <td>...</td>\n",
       "      <td>-1</td>\n",
       "      <td>-1</td>\n",
       "      <td>-1</td>\n",
       "      <td>-1</td>\n",
       "      <td>-1</td>\n",
       "      <td>-1</td>\n",
       "      <td>-1</td>\n",
       "      <td>-1</td>\n",
       "      <td>-1</td>\n",
       "      <td>-1</td>\n",
       "    </tr>\n",
       "    <tr>\n",
       "      <th>8</th>\n",
       "      <td>-1</td>\n",
       "      <td>1</td>\n",
       "      <td>1</td>\n",
       "      <td>1</td>\n",
       "      <td>-1</td>\n",
       "      <td>-1</td>\n",
       "      <td>-1</td>\n",
       "      <td>1</td>\n",
       "      <td>-1</td>\n",
       "      <td>-1</td>\n",
       "      <td>...</td>\n",
       "      <td>-1</td>\n",
       "      <td>-1</td>\n",
       "      <td>-1</td>\n",
       "      <td>-1</td>\n",
       "      <td>-1</td>\n",
       "      <td>-1</td>\n",
       "      <td>-1</td>\n",
       "      <td>-1</td>\n",
       "      <td>-1</td>\n",
       "      <td>-1</td>\n",
       "    </tr>\n",
       "    <tr>\n",
       "      <th>9</th>\n",
       "      <td>1</td>\n",
       "      <td>1</td>\n",
       "      <td>1</td>\n",
       "      <td>1</td>\n",
       "      <td>1</td>\n",
       "      <td>-1</td>\n",
       "      <td>-1</td>\n",
       "      <td>-1</td>\n",
       "      <td>-1</td>\n",
       "      <td>1</td>\n",
       "      <td>...</td>\n",
       "      <td>-1</td>\n",
       "      <td>-1</td>\n",
       "      <td>-1</td>\n",
       "      <td>-1</td>\n",
       "      <td>-1</td>\n",
       "      <td>-1</td>\n",
       "      <td>-1</td>\n",
       "      <td>-1</td>\n",
       "      <td>-1</td>\n",
       "      <td>-1</td>\n",
       "    </tr>\n",
       "    <tr>\n",
       "      <th>12</th>\n",
       "      <td>1</td>\n",
       "      <td>-1</td>\n",
       "      <td>-1</td>\n",
       "      <td>-1</td>\n",
       "      <td>1</td>\n",
       "      <td>1</td>\n",
       "      <td>1</td>\n",
       "      <td>-1</td>\n",
       "      <td>1</td>\n",
       "      <td>1</td>\n",
       "      <td>...</td>\n",
       "      <td>-1</td>\n",
       "      <td>-1</td>\n",
       "      <td>-1</td>\n",
       "      <td>-1</td>\n",
       "      <td>-1</td>\n",
       "      <td>-1</td>\n",
       "      <td>-1</td>\n",
       "      <td>-1</td>\n",
       "      <td>-1</td>\n",
       "      <td>-1</td>\n",
       "    </tr>\n",
       "    <tr>\n",
       "      <th>13</th>\n",
       "      <td>1</td>\n",
       "      <td>-1</td>\n",
       "      <td>-1</td>\n",
       "      <td>-1</td>\n",
       "      <td>1</td>\n",
       "      <td>1</td>\n",
       "      <td>-1</td>\n",
       "      <td>-1</td>\n",
       "      <td>-1</td>\n",
       "      <td>1</td>\n",
       "      <td>...</td>\n",
       "      <td>-1</td>\n",
       "      <td>-1</td>\n",
       "      <td>-1</td>\n",
       "      <td>-1</td>\n",
       "      <td>-1</td>\n",
       "      <td>-1</td>\n",
       "      <td>-1</td>\n",
       "      <td>-1</td>\n",
       "      <td>-1</td>\n",
       "      <td>-1</td>\n",
       "    </tr>\n",
       "    <tr>\n",
       "      <th>14</th>\n",
       "      <td>-1</td>\n",
       "      <td>1</td>\n",
       "      <td>1</td>\n",
       "      <td>1</td>\n",
       "      <td>-1</td>\n",
       "      <td>1</td>\n",
       "      <td>-1</td>\n",
       "      <td>-1</td>\n",
       "      <td>-1</td>\n",
       "      <td>1</td>\n",
       "      <td>...</td>\n",
       "      <td>-1</td>\n",
       "      <td>-1</td>\n",
       "      <td>-1</td>\n",
       "      <td>-1</td>\n",
       "      <td>-1</td>\n",
       "      <td>-1</td>\n",
       "      <td>-1</td>\n",
       "      <td>-1</td>\n",
       "      <td>-1</td>\n",
       "      <td>-1</td>\n",
       "    </tr>\n",
       "    <tr>\n",
       "      <th>17</th>\n",
       "      <td>1</td>\n",
       "      <td>1</td>\n",
       "      <td>1</td>\n",
       "      <td>1</td>\n",
       "      <td>-1</td>\n",
       "      <td>1</td>\n",
       "      <td>-1</td>\n",
       "      <td>-1</td>\n",
       "      <td>-1</td>\n",
       "      <td>1</td>\n",
       "      <td>...</td>\n",
       "      <td>-1</td>\n",
       "      <td>1</td>\n",
       "      <td>-1</td>\n",
       "      <td>-1</td>\n",
       "      <td>-1</td>\n",
       "      <td>-1</td>\n",
       "      <td>-1</td>\n",
       "      <td>-1</td>\n",
       "      <td>-1</td>\n",
       "      <td>-1</td>\n",
       "    </tr>\n",
       "    <tr>\n",
       "      <th>20</th>\n",
       "      <td>1</td>\n",
       "      <td>-1</td>\n",
       "      <td>-1</td>\n",
       "      <td>-1</td>\n",
       "      <td>1</td>\n",
       "      <td>1</td>\n",
       "      <td>-1</td>\n",
       "      <td>-1</td>\n",
       "      <td>-1</td>\n",
       "      <td>1</td>\n",
       "      <td>...</td>\n",
       "      <td>-1</td>\n",
       "      <td>-1</td>\n",
       "      <td>-1</td>\n",
       "      <td>-1</td>\n",
       "      <td>1</td>\n",
       "      <td>-1</td>\n",
       "      <td>-1</td>\n",
       "      <td>-1</td>\n",
       "      <td>-1</td>\n",
       "      <td>-1</td>\n",
       "    </tr>\n",
       "    <tr>\n",
       "      <th>23</th>\n",
       "      <td>1</td>\n",
       "      <td>-1</td>\n",
       "      <td>-1</td>\n",
       "      <td>-1</td>\n",
       "      <td>1</td>\n",
       "      <td>1</td>\n",
       "      <td>-1</td>\n",
       "      <td>-1</td>\n",
       "      <td>-1</td>\n",
       "      <td>1</td>\n",
       "      <td>...</td>\n",
       "      <td>-1</td>\n",
       "      <td>-1</td>\n",
       "      <td>-1</td>\n",
       "      <td>-1</td>\n",
       "      <td>-1</td>\n",
       "      <td>-1</td>\n",
       "      <td>-1</td>\n",
       "      <td>1</td>\n",
       "      <td>-1</td>\n",
       "      <td>-1</td>\n",
       "    </tr>\n",
       "  </tbody>\n",
       "</table>\n",
       "<p>10 rows × 61 columns</p>\n",
       "</div>"
      ],
      "text/plain": [
       "    0   1   2   3   4   5   6   7   8   9   ...  51  52  53  54  55  56  57  \\\n",
       "2   -1   1   1   1  -1   1  -1  -1  -1   1  ...  -1  -1  -1  -1  -1  -1  -1   \n",
       "4    1   1   1   1   1   1  -1  -1  -1  -1  ...  -1  -1  -1  -1  -1  -1  -1   \n",
       "8   -1   1   1   1  -1  -1  -1   1  -1  -1  ...  -1  -1  -1  -1  -1  -1  -1   \n",
       "9    1   1   1   1   1  -1  -1  -1  -1   1  ...  -1  -1  -1  -1  -1  -1  -1   \n",
       "12   1  -1  -1  -1   1   1   1  -1   1   1  ...  -1  -1  -1  -1  -1  -1  -1   \n",
       "13   1  -1  -1  -1   1   1  -1  -1  -1   1  ...  -1  -1  -1  -1  -1  -1  -1   \n",
       "14  -1   1   1   1  -1   1  -1  -1  -1   1  ...  -1  -1  -1  -1  -1  -1  -1   \n",
       "17   1   1   1   1  -1   1  -1  -1  -1   1  ...  -1   1  -1  -1  -1  -1  -1   \n",
       "20   1  -1  -1  -1   1   1  -1  -1  -1   1  ...  -1  -1  -1  -1   1  -1  -1   \n",
       "23   1  -1  -1  -1   1   1  -1  -1  -1   1  ...  -1  -1  -1  -1  -1  -1  -1   \n",
       "\n",
       "    58  59  60  \n",
       "2   -1  -1  -1  \n",
       "4   -1  -1  -1  \n",
       "8   -1  -1  -1  \n",
       "9   -1  -1  -1  \n",
       "12  -1  -1  -1  \n",
       "13  -1  -1  -1  \n",
       "14  -1  -1  -1  \n",
       "17  -1  -1  -1  \n",
       "20  -1  -1  -1  \n",
       "23   1  -1  -1  \n",
       "\n",
       "[10 rows x 61 columns]"
      ]
     },
     "execution_count": 1,
     "metadata": {},
     "output_type": "execute_result"
    }
   ],
   "source": [
    "s = 'letters.data'  # Plik należy pobrać, a następnie umieścić w folderze z projektem lub podać pełną ścieżkę do pliku\n",
    "print('File:', s.split('/')[-1])\n",
    "df = pd.read_csv(s,\n",
    "header=None,\n",
    "encoding='utf-8')\n",
    "# ponizej dane z przykładu\n",
    "# my_cases = '10 11 12 13 14 15 16 17 18 19'\n",
    "my_cases = '2 4 8 9 12 13 14 17 20 23'\n",
    "my_cases = list(map(int, my_cases.split()))\n",
    "print(my_cases)\n",
    "df = df.iloc[my_cases]\n",
    "df.head(10)\n"
   ]
  },
  {
   "attachments": {},
   "cell_type": "markdown",
   "metadata": {},
   "source": [
    "Tworzę zbiory:\n",
    "- X\n",
    "    - zbiór liter zakodowany binarnie (-1 zamiast 0) <br><br>\n",
    "- y\n",
    "    - zbiór wektorów odpowiedzi\n",
    "\n",
    "oraz je wyświetlam."
   ]
  },
  {
   "cell_type": "code",
   "execution_count": 2,
   "metadata": {},
   "outputs": [
    {
     "name": "stdout",
     "output_type": "stream",
     "text": [
      "[[-1  1  1  1 -1  1 -1 -1 -1  1  1 -1 -1 -1 -1  1 -1 -1 -1 -1  1 -1 -1 -1\n",
      "  -1  1 -1 -1 -1  1 -1  1  1  1 -1]\n",
      " [ 1  1  1  1  1  1 -1 -1 -1 -1  1 -1 -1 -1 -1  1  1  1  1 -1  1 -1 -1 -1\n",
      "  -1  1 -1 -1 -1 -1  1  1  1  1  1]\n",
      " [-1  1  1  1 -1 -1 -1  1 -1 -1 -1 -1  1 -1 -1 -1 -1  1 -1 -1 -1 -1  1 -1\n",
      "  -1 -1 -1  1 -1 -1 -1  1  1  1 -1]\n",
      " [ 1  1  1  1  1 -1 -1 -1 -1  1 -1 -1 -1 -1  1 -1 -1 -1 -1  1 -1 -1 -1 -1\n",
      "   1  1 -1 -1 -1  1 -1  1  1  1 -1]\n",
      " [ 1 -1 -1 -1  1  1  1 -1  1  1  1 -1  1 -1  1  1 -1 -1 -1  1  1 -1 -1 -1\n",
      "   1  1 -1 -1 -1  1  1 -1 -1 -1  1]\n",
      " [ 1 -1 -1 -1  1  1 -1 -1 -1  1  1  1 -1 -1  1  1 -1  1 -1  1  1 -1 -1  1\n",
      "   1  1 -1 -1 -1  1  1 -1 -1 -1  1]\n",
      " [-1  1  1  1 -1  1 -1 -1 -1  1  1 -1 -1 -1  1  1 -1 -1 -1  1  1 -1 -1 -1\n",
      "   1  1 -1 -1 -1  1 -1  1  1  1 -1]\n",
      " [ 1  1  1  1 -1  1 -1 -1 -1  1  1 -1 -1 -1  1  1  1  1  1 -1  1 -1  1 -1\n",
      "  -1  1 -1 -1  1 -1  1 -1 -1 -1  1]\n",
      " [ 1 -1 -1 -1  1  1 -1 -1 -1  1  1 -1 -1 -1  1  1 -1 -1 -1  1  1 -1 -1 -1\n",
      "   1  1 -1 -1 -1  1 -1  1  1  1 -1]\n",
      " [ 1 -1 -1 -1  1  1 -1 -1 -1  1 -1  1 -1  1 -1 -1 -1  1 -1 -1 -1  1 -1  1\n",
      "  -1  1 -1 -1 -1  1  1 -1 -1 -1  1]]\n",
      "\n",
      "\n",
      "\n",
      "[[ 1 -1 -1 -1 -1 -1 -1 -1 -1 -1]\n",
      " [-1  1 -1 -1 -1 -1 -1 -1 -1 -1]\n",
      " [-1 -1  1 -1 -1 -1 -1 -1 -1 -1]\n",
      " [-1 -1 -1  1 -1 -1 -1 -1 -1 -1]\n",
      " [-1 -1 -1 -1  1 -1 -1 -1 -1 -1]\n",
      " [-1 -1 -1 -1 -1  1 -1 -1 -1 -1]\n",
      " [-1 -1 -1 -1 -1 -1  1 -1 -1 -1]\n",
      " [-1 -1 -1 -1 -1 -1 -1  1 -1 -1]\n",
      " [-1 -1 -1 -1 -1 -1 -1 -1  1 -1]\n",
      " [-1 -1 -1 -1 -1 -1 -1 -1 -1  1]]\n"
     ]
    }
   ],
   "source": [
    "X = df.iloc[:, :35].values\n",
    "y = df.iloc[:, 35:].values\n",
    "y = y[:, my_cases]\n",
    "\n",
    "print(X)\n",
    "print('\\n\\n')\n",
    "print(y)"
   ]
  },
  {
   "attachments": {},
   "cell_type": "markdown",
   "metadata": {},
   "source": [
    "---\n",
    "\n",
    "## Klasy"
   ]
  },
  {
   "attachments": {},
   "cell_type": "markdown",
   "metadata": {},
   "source": [
    "Klasa Perceptron - żadnych zmian względem poprzednich projektów."
   ]
  },
  {
   "cell_type": "code",
   "execution_count": 3,
   "metadata": {},
   "outputs": [],
   "source": [
    "class Perceptron(object):\n",
    "  def __init__(self, eta=0.01, n_iter=50, random_state=1):\n",
    "    self.eta = eta\n",
    "    self.n_iter = n_iter\n",
    "    self.random_state = random_state\n",
    "\n",
    "  def fit(self, X, y):\n",
    "    rgen = np.random.RandomState(self.random_state)\n",
    "    self.w_ = rgen.normal(loc=0.0, scale=0.01, size=1 + X.shape[1])\n",
    "    self.errors_ = []\n",
    "    for _ in range(self.n_iter):\n",
    "      errors = 0\n",
    "      for xi, target in zip(X, y):\n",
    "        update = self.eta * (target - self.predict(xi))\n",
    "        self.w_[1:] += update * xi\n",
    "        self.w_[0] += update\n",
    "        errors += int(update != 0.0)\n",
    "      self.errors_.append(errors)\n",
    "    return self\n",
    "  def net_input(self, X):\n",
    "    return np.dot(X, self.w_[1:]) + self.w_[0]\n",
    "  def predict(self, X):\n",
    "    return np.where(self.net_input(X) >= 0.0, 1, -1)\n"
   ]
  },
  {
   "attachments": {},
   "cell_type": "markdown",
   "metadata": {},
   "source": [
    "Klasa SLP - dodano kilka zmian:\n",
    "\n",
    "- metoda ```create_perceptrons(self, size)``` \n",
    "    - tworzy listę perceptronów o podanym rozmiarze. \n",
    "    <br><br>\n",
    "    > *Przydatne przy korzystaniu z algorytmu genetycznego.* \n",
    "    <br><br>\n",
    "- metoda ```predict_weights(self, X, weights)``` \n",
    "    - taka sama jak ```predict(self, X)```, lecz w tym przypadku zamieniamy wagi perceptronów, na wagi z wektora podanego w argumencie <br><br>\n",
    "- metoda ```misclassified_weights(self, y, X, weights)``` \n",
    "    - taka sama jak ```misclassified(self, y, X)```, lecz w tym przypadku wywołujemy metodę ```predict_weights(self, X, weights)``` przekazując wartości ```values``` z obiektu typu ```Weight``` podanego w dodatkowym argumencie."
   ]
  },
  {
   "cell_type": "code",
   "execution_count": 4,
   "metadata": {},
   "outputs": [],
   "source": [
    "class SLP(object):\n",
    "  def __init__(self, eta=0.05, n_iter=10, random_state=1):\n",
    "    self.eta = eta\n",
    "    self.n_iter = n_iter\n",
    "    self.random_state = random_state\n",
    "\n",
    "  def create_perceptrons(self, size):\n",
    "    self.perceptrons_ = []\n",
    "    for i in range(0, size):\n",
    "      self.perceptrons_.append(Perceptron(eta=self.eta, n_iter=self.n_iter, random_state=self.random_state))\n",
    "\n",
    "  def fit(self, X, y):\n",
    "    self.errors_ = []\n",
    "    self.perceptrons_ = []\n",
    "    for i in range(0, len(y)):\n",
    "      self.perceptrons_.append(Perceptron(eta=self.eta, n_iter=self.n_iter, random_state=self.random_state))\n",
    "      self.perceptrons_[i].fit(X, y[i])\n",
    "      if len(self.errors_) == 0:\n",
    "        self.errors_ = self.perceptrons_[i].errors_\n",
    "      else:\n",
    "        self.errors_ = [sum(j) for j in zip(self.errors_, self.perceptrons_[i].errors_)]\n",
    "\n",
    "  def predict(self, X):\n",
    "    self.predictions = [0] * len(self.perceptrons_)\n",
    "    for i in range(0, len(self.perceptrons_)):\n",
    "      self.predictions[i] = self.perceptrons_[i].predict(X)\n",
    "    return self.predictions\n",
    "  \n",
    "  def misclassified(self, X, y):\n",
    "    result = 0\n",
    "    predictions = self.predict(X)\n",
    "    predictions = [list(map(lambda x: int(x * (-1)), i)) for i in predictions]\n",
    "    for i in range(0, len(y)):\n",
    "      result =  result + (sum(map(lambda x: abs(x) // 2, map(sum, zip(predictions[i], y[i])))))\n",
    "    return result\n",
    "      \n",
    "  def predict_weights(self, X, weights):\n",
    "    self.predictions = [0] * len(self.perceptrons_)\n",
    "    for i in range(0, len(self.perceptrons_)):\n",
    "      start_weights = i * (1 + X.shape[1])\n",
    "      end_weights = (i + 1) * (1 + X.shape[1])\n",
    "\n",
    "      self.perceptrons_[i].w_ = weights[start_weights:end_weights]\n",
    "      self.predictions[i] = self.perceptrons_[i].predict(X)\n",
    "\n",
    "    return self.predictions\n",
    "\n",
    "  def misclassified_weights(self, X, y, weights):\n",
    "    result = 0\n",
    "    predictions = self.predict_weights(X, weights.values)\n",
    "    predictions = [list(map(lambda x: int(x * (-1)), i)) for i in predictions]\n",
    "    for i in range(0, len(y)):\n",
    "      result += (sum(map(lambda x: abs(x) // 2, map(sum, zip(predictions[i], y[i])))))\n",
    "    return result\n",
    "\n",
    "  def show(self, X):\n",
    "    _, axs = plt.subplots(2, 5, figsize=(14, 8), sharex='col', sharey='row')\n",
    "\n",
    "    for i, x in enumerate(X):\n",
    "      ax = axs[i // 5, i % 5]\n",
    "      ax.imshow(x.reshape(7, 5), cmap='binary')\n",
    "\n",
    "    plt.show()"
   ]
  },
  {
   "attachments": {},
   "cell_type": "markdown",
   "metadata": {},
   "source": [
    "Klasa Weight:\n",
    "- atrybuty:\n",
    "    - ```values``` -> wektor, który reprezentuje wagi przekazywane do perceptronów.\n",
    "    - ```errors``` -> liczba całkowita, która zawiera informację o ilości popełnionych błędów przy próbie predykcji za pomocą wag z wektora ```values```.\n",
    "    <br><br>\n",
    "- metoda ```set_random(self, lower_bound=-100, upper_bound=100)``` \n",
    "    - ustawia losowe wartości wag z podanego w argumentach zakresu.\n",
    "<br><br>\n",
    "- metoda ```fit(self, X, y)``` \n",
    "    - dokonuje oceny wag zawartych w atrybucie ```values``` i zapisuje ilość błędów do zmiennej ```errors```."
   ]
  },
  {
   "cell_type": "code",
   "execution_count": 5,
   "metadata": {},
   "outputs": [],
   "source": [
    "class Weight:\n",
    "    def __init__(self, slp, values):\n",
    "        self.slp = slp\n",
    "        self.values = values\n",
    "        self.errors = 0\n",
    "\n",
    "    def set_random(self, lower_bound=-100, upper_bound=100):\n",
    "        for i in range(0, len(self.values)):\n",
    "            self.values[i] = random.uniform(lower_bound, upper_bound)\n",
    "\n",
    "    def fit(self, X, y):\n",
    "        self.errors = self.slp.misclassified_weights(X, y, self)"
   ]
  },
  {
   "attachments": {},
   "cell_type": "markdown",
   "metadata": {},
   "source": [
    "Klasa Gen_SLP:\n",
    "- atrybuty:\n",
    "    - ```slp``` -> obiekt typu ```SLP``` wykorzystywany do predykcji.\n",
    "    - ```max_iter``` -> liczba całkowita, która określa maksymalną ilość iteracji algorytmu genetycznego.\n",
    "    - ```size``` -> liczba całkowita, która określa rozmiar populacji.\n",
    "    - ```lower_bound``` -> liczba całkowita, która określa dolny zakres losowania wag.\n",
    "    - ```upper_bound``` -> liczba całkowita, która określa górny zakres losowania wag.\n",
    "    - ```random_state``` -> liczba całkowita, która określa ziarno losowania.\n",
    "    - ```best_errors``` -> lista, która zawiera informację o ilości błędów najlepszego osobnika w każdej iteracji.\n",
    "    - ```avg_errors``` -> lista, która zawiera informację o średniej ilości błędów w każdej iteracji.\n",
    "    - ```weights``` -> lista, która zawiera obiekty typu ```Weight```, które reprezentują osobniki w populacji.\n",
    "    <br><br>\n",
    "- metoda ```sort_weights(self, low, high)``` \n",
    "    - sortuje osobniki w populacji według ilości błędów, od najmniejszej do największej, za pomocą algorytmu sortowania szybkiego.\n",
    "    <br><br>\n",
    "- metoda ```next_generation(self)``` \n",
    "    - tworzy nową populację na podstawie instrukcji podanych w zadaniu.\n",
    "    <br><br>\n",
    "- metoda ```append_stats(self)``` \n",
    "    - dodaje do list ```best_errors``` i ```avg_errors``` informacje o ilości błędów najlepszego osobnika i średniej ilości błędów w populacji.\n",
    "    <br><br>\n",
    "- metoda ```show_stats(self)``` \n",
    "    - wyświetla wykres ilości błędów najlepszego osobnika i średniej ilości błędów w populacji w każdej iteracji.\n",
    "    <br><br>\n",
    "- metoda ```fit(self, X, y)``` \n",
    "    - rozpoczyna proces uczenia algorytmu genetycznego."
   ]
  },
  {
   "cell_type": "code",
   "execution_count": 6,
   "metadata": {},
   "outputs": [],
   "source": [
    "class Gen_SLP:\n",
    "    def __init__(self, slp, max_iter=1000, size=100, lower_bound=-100, upper_bound=100, random_state=1):\n",
    "        random.seed(random_state)\n",
    "        self.slp = slp\n",
    "        self.max_iter = max_iter\n",
    "        self.size = size\n",
    "        self.lower_bound = lower_bound\n",
    "        self.upper_bound = upper_bound\n",
    "        self.random_state = random_state\n",
    "\n",
    "        self.best_errors = []\n",
    "        self.avg_errors = []\n",
    "\n",
    "        self.weights = []\n",
    "\n",
    "    def sort_weights(self, low, high):\n",
    "        if low < high:\n",
    "            pivot = self.weights[high-1]\n",
    "            i = low\n",
    "            for x in range(low, high-1):\n",
    "                if self.weights[x].errors <= pivot.errors:\n",
    "                    (self.weights[i], self.weights[x]) = (self.weights[x], self.weights[i])\n",
    "                    i = i + 1\n",
    " \n",
    "            (self.weights[i], self.weights[high - 1]) = (self.weights[high - 1], self.weights[i])\n",
    "\n",
    "            pi = i\n",
    " \n",
    "            self.sort_weights(low, pi)\n",
    "            self.sort_weights(pi + 1, high)\n",
    "\n",
    "    def next_generation(self):\n",
    "        new_weights = []\n",
    "        for i in range(0, self.size // 10):\n",
    "            new_weights.append(self.weights[i])\n",
    "\n",
    "        for i in range(self.size // 10, self.size):\n",
    "            p1 = 0\n",
    "            p2 = 0\n",
    "            while p1 == p2:\n",
    "                p1 = random.randint(0,49)\n",
    "                p2 = random.randint(0,49)\n",
    "\n",
    "            par1 = self.weights[p1]\n",
    "            par2 = self.weights[p2]\n",
    "\n",
    "            mutation = Weight(self.slp, [0] * len(self.weights[0].values))\n",
    "            mutation.set_random(self.lower_bound, self.upper_bound)\n",
    "\n",
    "            for y in range(0, len(mutation.values)):\n",
    "                r = random.random()\n",
    "                if r < 0.45:\n",
    "                    mutation.values[y] = par1.values[y]\n",
    "                elif r >= 0.45 and r < 0.90:\n",
    "                    mutation.values[y] = par2.values[y]\n",
    "      \n",
    "            new_weights.append(mutation)\n",
    "            \n",
    "        self.weights = new_weights\n",
    "        return new_weights    \n",
    "\n",
    "    def append_stats(self):\n",
    "        self.best_errors.append(self.weights[0].errors)\n",
    "        self.avg_errors.append(sum([x.errors for x in self.weights]) / self.size)\n",
    "\n",
    "    def show_stats(self):\n",
    "        plt.plot(range(0, len(self.best_errors)), self.best_errors, marker='o', label='Najlepszy wynik')\n",
    "        plt.plot(range(0, len(self.avg_errors)), self.avg_errors, marker='o', label='Średni wynik')\n",
    "        plt.xlabel('Generacja')\n",
    "        plt.ylabel('Ilość błędów')\n",
    "        plt.legend()\n",
    "        plt.show()\n",
    "\n",
    "    def fit(self, X, y):\n",
    "        self.weights = []\n",
    "        for i in range(0, self.size):\n",
    "            self.weights.append(Weight(self.slp, [0] * ((1 + X.shape[1]) * len(y))))\n",
    "            self.weights[i].set_random(self.lower_bound, self.upper_bound)\n",
    "            self.weights[i].fit(X, y)\n",
    "        \n",
    "        self.sort_weights(0, self.size)\n",
    "        self.append_stats()\n",
    "\n",
    "        print('Iteracja 1: ')\n",
    "        print(f'Najlepszy wynik:\\n Ilość błędów: {self.best_errors[0]}')\n",
    "        print(f'Średni wynik:\\n Ilość błędów: {self.avg_errors[0]}')\n",
    "        \n",
    "        print(self.weights[0].values)\n",
    "\n",
    "        for i in range(1, self.max_iter):\n",
    "            self.weights = self.next_generation()\n",
    "            for x in self.weights:\n",
    "                x.fit(X, y)\n",
    "            self.sort_weights(0, self.size)\n",
    "            self.append_stats()\n",
    "\n",
    "            if self.best_errors[i] == 0:\n",
    "                print(\"ZAKONCZONO\")\n",
    "                print(f'Iteracja {i + 1}: ')\n",
    "                print(f'Najlepszy wynik:\\n Ilość błędów: {self.best_errors[i]}')\n",
    "                print(f'Średni wynik:\\n Ilość błędów: {self.avg_errors[i]}')\n",
    "                # print(f'Najlepsze wagi: {self.weights[0].values}')\n",
    "                self.show_stats()\n",
    "                break\n",
    "\n",
    "            # do sprawdzania postępu algorytmu:\n",
    "            \n",
    "            # if (i + 1) % 10 == 0:\n",
    "            #     print(f'Iteracja {i + 1}: ')\n",
    "            #     print(f'Najlepszy wynik:\\n Ilość błędów: {self.best_errors[i]}')\n",
    "            #     print(f'Średni wynik:\\n Ilość błędów: {self.avg_errors[i]}')\n",
    "            #     # print(f'Najlepsze wagi: {self.weights[40].values}')"
   ]
  },
  {
   "attachments": {},
   "cell_type": "markdown",
   "metadata": {},
   "source": [
    "---\n",
    "\n",
    "## Testowanie zwykłego uczenia linowego SLP."
   ]
  },
  {
   "attachments": {},
   "cell_type": "markdown",
   "metadata": {},
   "source": [
    "Tworzony jest obiekt typu ```SLP``` i wywoływana jest metoda ```show(X)```, która wyświetla wszystkie zakodowane litery w postaci graficznej."
   ]
  },
  {
   "cell_type": "code",
   "execution_count": 7,
   "metadata": {},
   "outputs": [
    {
     "data": {
      "image/png": "[encoded data removed]",
      "text/plain": [
       "<Figure size 1400x800 with 10 Axes>"
      ]
     },
     "metadata": {},
     "output_type": "display_data"
    }
   ],
   "source": [
    "net = SLP()\n",
    "net.show(X)"
   ]
  },
  {
   "attachments": {},
   "cell_type": "markdown",
   "metadata": {},
   "source": [
    "Następnie dokonuje ucznia SLP za pomocą metody ```fit(X, y)``` oraz wyświetlam informacje takie jak:\n",
    "- ilość błędów pod koniec uczenia\n",
    "- ilość błędów w każdej epoce\n",
    "- wykres ilości błędów w każdej epoce"
   ]
  },
  {
   "cell_type": "code",
   "execution_count": 8,
   "metadata": {},
   "outputs": [
    {
     "name": "stdout",
     "output_type": "stream",
     "text": [
      "Liczba błędnie sklasyfikowanych próbek: 0\n",
      "Tablica błędów w kolejnych epokach: [29, 14, 8, 2, 0, 0, 0, 0, 0, 0]\n"
     ]
    },
    {
     "data": {
      "image/png": "[encoded data removed]",
      "text/plain": [
       "<Figure size 640x480 with 1 Axes>"
      ]
     },
     "metadata": {},
     "output_type": "display_data"
    },
    {
     "name": "stdout",
     "output_type": "stream",
     "text": [
      "CPU times: total: 78.1 ms\n",
      "Wall time: 79.1 ms\n"
     ]
    }
   ],
   "source": [
    "%%time\n",
    "net.fit(X, y)\n",
    "print(f'Liczba błędnie sklasyfikowanych próbek: {net.misclassified(X, y)}')\n",
    "print(f'Tablica błędów w kolejnych epokach: {net.errors_}')\n",
    "plt.plot(range(0, len(net.errors_) ), net.errors_, marker='o')\n",
    "plt.xlabel('Epochs')\n",
    "plt.ylabel('Number of updates')\n",
    "plt.show()"
   ]
  },
  {
   "attachments": {},
   "cell_type": "markdown",
   "metadata": {},
   "source": [
    "Jak widać, SLP nauczył się poprawnie rozpoznawać wszystkie litery w 4 epoce, a czas uczenia wyniósł zaledwie 0.08 sekundy."
   ]
  },
  {
   "attachments": {},
   "cell_type": "markdown",
   "metadata": {},
   "source": [
    "Dla pewności wyświetlam wynik wywołania metody ```predict(X)```, która zwraca listę przewidzianych odpowiedzi.\n",
    "Jedynki są na tych samych pozycjach co w wektorach odpowiedzi (na ukos od najbardziej lewego do najbardziej prawego), co oznacza, że SLP poprawnie rozpoznaje wszystkie litery."
   ]
  },
  {
   "cell_type": "code",
   "execution_count": 9,
   "metadata": {},
   "outputs": [
    {
     "data": {
      "text/plain": [
       "[array([ 1, -1, -1, -1, -1, -1, -1, -1, -1, -1]),\n",
       " array([-1,  1, -1, -1, -1, -1, -1, -1, -1, -1]),\n",
       " array([-1, -1,  1, -1, -1, -1, -1, -1, -1, -1]),\n",
       " array([-1, -1, -1,  1, -1, -1, -1, -1, -1, -1]),\n",
       " array([-1, -1, -1, -1,  1, -1, -1, -1, -1, -1]),\n",
       " array([-1, -1, -1, -1, -1,  1, -1, -1, -1, -1]),\n",
       " array([-1, -1, -1, -1, -1, -1,  1, -1, -1, -1]),\n",
       " array([-1, -1, -1, -1, -1, -1, -1,  1, -1, -1]),\n",
       " array([-1, -1, -1, -1, -1, -1, -1, -1,  1, -1]),\n",
       " array([-1, -1, -1, -1, -1, -1, -1, -1, -1,  1])]"
      ]
     },
     "execution_count": 9,
     "metadata": {},
     "output_type": "execute_result"
    }
   ],
   "source": [
    "net.predict(X)"
   ]
  },
  {
   "attachments": {},
   "cell_type": "markdown",
   "metadata": {},
   "source": [
    "---\n",
    "\n",
    "## Testowanie algorytmu genetycznego."
   ]
  },
  {
   "attachments": {},
   "cell_type": "markdown",
   "metadata": {},
   "source": [
    "Tworzony jest obiekt typu ```Gen_SLP``` i dokonywane jest uczenie.\n",
    "> W tym przypadku, zwiększyłem wielkość populacji do 1000, gdyż usprałniło to proces uczenia."
   ]
  },
  {
   "cell_type": "code",
   "execution_count": 23,
   "metadata": {},
   "outputs": [
    {
     "name": "stdout",
     "output_type": "stream",
     "text": [
      "Iteracja 1: \n",
      "Najlepszy wynik:\n",
      " Ilość błędów: 27\n",
      "Średni wynik:\n",
      " Ilość błędów: 49.776\n",
      "[-0.8899283422900788, 0.8544948141841824, -0.7943881215726885, 0.7610879530145938, 0.9732323402095262, -0.8546495290036005, 0.17015085860472867, -0.0066636184685267, 0.7960082462513569, 0.7428500573952754, -0.3744852859411236, 0.1399544745287331, -0.7327979865762599, -0.19790248304233704, 0.023750730381679963, -0.7289431227613907, -0.11756130777007212, 0.642317262674696, 0.12720446368704397, -0.5841119297388915, -0.5814262325403936, 0.9665873883996376, 0.812122719670878, 0.6419197762665003, -0.9507969944657444, 0.969554755487533, -0.7816568333910912, 0.1751167446538957, 0.969756874035959, 0.2584425894051525, 0.44650501263017306, -0.5215604654186767, -0.9978443308659959, 0.04016298752089331, -0.9465000326280462, -0.06603355626951823, -0.23682392692239151, -0.6738822827614201, -0.7154399111947909, -0.26301751186504396, -0.06423113223382848, 0.2695334868777459, -0.9266350095723759, 0.06795862811857978, -0.17087998445160335, -0.17092091577573276, 0.42192028463875864, 0.8426386507720798, 0.8124646600601324, -0.2730499140837841, 0.00585250123663994, 0.7758167850343733, 0.7700209197000216, -0.4446848279298392, -0.14656506355055643, 0.8886913523415523, 0.5662717843586997, 0.7332719579608504, 0.9380137865036142, 0.5704977710902066, 0.022774541214561017, 0.0994859320413537, 0.1723003545280688, 0.12339172715699243, -0.9948576415642969, 0.6084694893391365, 0.21755836440706244, 0.25516378076614155, 0.11801959225606629, 0.23425063564116733, -0.7751817027754577, 0.6002203301467852, 0.6480025757382715, 0.05793471295325037, 0.3931192591426995, -0.10661262722973763, -0.11706124830369968, -0.4548444395169129, -0.7876912583023323, 0.4507351818374601, 0.8099006789620331, 0.2548090803540717, -0.22053876455012933, -0.8407236789754964, 0.985839881670378, 0.6955898177065898, -0.301955625634885, 0.040219026967884375, -0.35926839543879496, -0.24265106031052186, -0.9486251831409434, -0.26955647797371496, -0.44216526655027644, 0.10622365356670072, -0.1801802243131334, -0.6290965580276222, -0.480817116073325, -0.061281505692436955, -0.9258401874907869, 0.10061951688967974, -0.27497691664092283, 0.2708644821719395, -0.7575779234360933, 0.04140375239133043, -0.33009557456052474, -0.5734090091485653, 0.8555211255222241, -0.6434384094481294, 0.0906368674620972, -0.8221703462809022, 0.8023137539689023, -0.9529452510089893, -0.2561380801108648, -0.9826530255318893, -0.37442936068059085, -0.219094717977935, -0.5247959575511225, 0.4790397121004817, -0.5091785968758298, -0.860971531125355, -0.18950089282991622, 0.11867778052580569, -0.6276109095894682, 0.4471016103904286, -0.0952519720904017, -0.07821718489194396, -0.09042299789928188, 0.013596184913844178, 0.536975464425649, 0.9167558862564784, -0.7609547614511978, 0.645358392244721, 0.17549480527235772, -0.4153696375966771, 0.08787722717193858, -0.7721355857465009, -0.4627881983666513, 0.9053827779865258, 0.0056984435216975715, -0.9194294780714305, 0.715745213072694, 0.11201420401948692, 0.44292589148075323, -0.5512696627929046, -0.0657066664089514, -0.7164028944121643, -0.9536606118927196, 0.5707784499984869, 0.5488572877838871, 0.21716502922915337, 0.9722755056134635, 0.5061438902133046, 0.6228351579142388, 0.7192648758316547, 0.024238732342909408, 0.6165169377073207, -0.5959254281543871, 0.001180385932517014, 0.4899545168396737, 0.775947326953786, 0.15600601515564594, -0.5101322273040028, -0.772378751195473, -0.3368150572766515, 0.2100799607547872, -0.06097655890878495, -0.5472450677626979, -0.2501241424462095, -0.9538253421629099, 0.8938933555173143, 0.6819955685816159, -0.6349308956252906, 0.28455833964187405, 0.231594988017374, 0.6070033583928431, -0.7872453799842549, -0.731171262716892, 0.9706746236187902, 0.8108053833551621, -0.634426881795072, -0.0659902082895436, -0.28955469521121224, -0.662274995127593, 0.4851238313749904, 0.5431710281956947, 0.45003890393698076, -0.04287410367724975, -0.504236663068182, 0.31563033515690697, 0.9552430423197396, -0.35639636453837964, -0.9171055423547334, 0.5493483805170238, 0.5806515497943099, -0.3892702987519201, 0.6584572063984946, 0.6847448342646394, 0.31615228669727435, -0.7518721085342022, 0.005235594113128572, -0.21475872806555696, -0.7336999567301525, 0.546669688259664, -0.40592134317819184, 0.5490089505451499, 0.8237078154864885, 0.020227543570308315, 0.35612525180020693, 0.030531786571819097, 0.5161303067107299, 0.5744009576786246, 0.00475392126063201, -0.7576009670886303, -0.10991088081720402, -0.7969398551686537, 0.8456449730965063, -0.66902099812462, 0.765498847199467, 0.4138112505365312, 0.403557461796362, -0.5056236292004714, -0.7575593646680492, 0.02040166385426434, 0.9399866994285666, -0.9490321867635094, 0.43051594118200454, -0.47313080100272775, 0.2513400030835755, -0.7502728065127182, -0.24125834034245974, 0.8366828435753149, -0.6542107399947541, 0.6423803255208751, 0.3518613195396951, -0.8455134988040136, 0.5694470610743918, 0.38298678365264704, -0.9936676097728987, -0.46856026219932345, 0.33326326278207485, 0.8749555497013115, -0.07995432280740689, -0.3433635196032794, 0.9057355968560457, 0.3214462188187115, 0.6273630720848866, 0.2034363074346892, -0.9353765420379418, -0.25975059637861, -0.5390090195597244, 0.02560843793293488, 0.13646560946171937, -0.8988602629709208, -0.8880034498340896, -0.9124595095115047, -0.4915832485587621, -0.22345823789972852, -0.27563381519655006, 0.10295445216060584, -0.016148834170883086, 0.6083791316524236, 0.6283400552168892, -0.026590580360211336, -0.5235867140066903, 0.6990054804099384, 0.17472382236362116, 0.15473910176405914, 0.8330656201693554, 0.44201232627643683, -0.46103427146356246, 0.48179943351151167, 0.9685448096623825, 0.09184061828565682, -0.7987707530702342, 0.615254864565757, -0.10885415168832524, -0.802752888589146, 0.7852379421354165, -0.14600726590109958, -0.15257783577230932, -0.34837044859563693, 0.01165697003128452, 0.1421593722231238, 0.3695419189593172, 0.9680933297957761, -0.4783856151962067, 0.6252233723128446, 0.7636401847104723, -0.2589936836713038, 0.2329416348780997, -0.483613597929484, 0.6470472439809047, -0.7144521010177729, 0.2801863379643368, 0.9417223991830137, -0.0513371778680527, 0.8198870422463267, 0.07501814573390497, -0.7699702532275137, -0.1533383391665386, -0.3673650204793415, 0.5654714485212147, 0.05107252976853016, 0.6082397646646125, -0.6815022375275583, -0.3858276553145428, 0.4055307576350897, -0.8675727805441042, -0.7066268046984459, -0.24291371362217085, -0.6982315182675645, 0.5632018704186654, -0.42790726175988625, 0.3562889561056177, 0.9720852168094418, 0.8744541797464829, 0.5219256434821924, -0.37448824779367773, -0.25715246293031435, -0.9791475628676496, 0.7270270515278459, -0.8715113000724779, -0.7164890317964849, -0.033687764445192725, 0.6336042019723478, 0.3234641578372963, 0.5714728337655084, 0.5580102998039351, -0.9838519585908005, 0.3935167494167704, -0.4884034621260933, -0.2310180331776044, 0.5386691499696901, 0.40437576211034343, 0.7045929788987428, -0.8544292952351782, 0.4579090942088848, 0.9484260220618006, -0.7073299224939389, 0.5562724099348646, 0.6766070729327012, -0.9784688507452597, 0.0457152926304496, 0.5681712354584336, -0.32525668630089055, -0.6716185661831586, -0.1973641393000618, 0.1350349393667074, 0.33134913951522393, -0.9359917651089269, -0.9283505275505373, -0.4095700309350856, -0.21663343119291656, 0.755796938558364, 0.2996944915645199, -0.30624008413129045, 0.4937584560132653, -0.2763580482591461, 0.5746480517493744, 0.2029274675180086]\n",
      "ZAKONCZONO\n",
      "Iteracja 305: \n",
      "Najlepszy wynik:\n",
      " Ilość błędów: 0\n",
      "Średni wynik:\n",
      " Ilość błędów: 9.892\n"
     ]
    },
    {
     "data": {
      "image/png": "[encoded data removed]",
      "text/plain": [
       "<Figure size 640x480 with 1 Axes>"
      ]
     },
     "metadata": {},
     "output_type": "display_data"
    },
    {
     "name": "stdout",
     "output_type": "stream",
     "text": [
      "CPU times: total: 57.1 s\n",
      "Wall time: 57.2 s\n"
     ]
    }
   ],
   "source": [
    "%%time\n",
    "slp = SLP()\n",
    "slp.create_perceptrons(len(y))\n",
    "ga = Gen_SLP(net, max_iter=1000, size=1000, lower_bound=-1, upper_bound=1, random_state=1)\n",
    "ga.fit(X, y)"
   ]
  },
  {
   "attachments": {},
   "cell_type": "markdown",
   "metadata": {},
   "source": [
    "Algorytm genetyczny nauczył się poprawnie rozpoznawać wszystkie litery w aż 305 iteracji, a czas uczenia wyniósł 57 sekund."
   ]
  },
  {
   "attachments": {},
   "cell_type": "markdown",
   "metadata": {},
   "source": [
    "Tak samo jak wcześniej, wyświetlam wynik wywołania metody ```predict_weights(X, ga.weights[0].values)```, która zwraca listę przewidzianych odpowiedzi.\n",
    "> W tym przypadku, wykorzystujemy wagi najlepszego osobnika, który znajduje się na początku listy ```ga.weights```."
   ]
  },
  {
   "cell_type": "code",
   "execution_count": 11,
   "metadata": {},
   "outputs": [
    {
     "data": {
      "text/plain": [
       "[array([ 1, -1, -1, -1, -1, -1, -1, -1, -1, -1]),\n",
       " array([-1,  1, -1, -1, -1, -1, -1, -1, -1, -1]),\n",
       " array([-1, -1,  1, -1, -1, -1, -1, -1, -1, -1]),\n",
       " array([-1, -1, -1,  1, -1, -1, -1, -1, -1, -1]),\n",
       " array([-1, -1, -1, -1,  1, -1, -1, -1, -1, -1]),\n",
       " array([-1, -1, -1, -1, -1,  1, -1, -1, -1, -1]),\n",
       " array([-1, -1, -1, -1, -1, -1,  1, -1, -1, -1]),\n",
       " array([-1, -1, -1, -1, -1, -1, -1,  1, -1, -1]),\n",
       " array([-1, -1, -1, -1, -1, -1, -1, -1,  1, -1]),\n",
       " array([-1, -1, -1, -1, -1, -1, -1, -1, -1,  1])]"
      ]
     },
     "execution_count": 11,
     "metadata": {},
     "output_type": "execute_result"
    }
   ],
   "source": [
    "net.predict_weights(X, ga.weights[0].values)"
   ]
  },
  {
   "attachments": {},
   "cell_type": "markdown",
   "metadata": {},
   "source": [
    "---\n",
    "\n",
    "## Testowanie wag na uszkodzonych danych."
   ]
  },
  {
   "attachments": {},
   "cell_type": "markdown",
   "metadata": {},
   "source": [
    "Tworzę funkcję ```damage(X, percent, seed=1)```, która uszkadza dane w podanym procentowym zakresie.\n",
    "> funkcja zaimplementowana z pliku *WDSSI_perce.pdf* znajdującego się na kampusie."
   ]
  },
  {
   "cell_type": "code",
   "execution_count": 12,
   "metadata": {},
   "outputs": [],
   "source": [
    "def damage(X, percent, seed=1):\n",
    "  rgen = np.random.RandomState(seed)\n",
    "  result = np.array(X)\n",
    "  count = int(X.shape[1]*percent/100)\n",
    "\n",
    "  for indeks_example in range(len(X)):\n",
    "    order = np.sort(rgen.choice(X.shape[1], count, replace=False))\n",
    "    for indeks_pixel in order:\n",
    "      result[indeks_example][indeks_pixel] *= -1\n",
    "  \n",
    "  return result"
   ]
  },
  {
   "attachments": {},
   "cell_type": "markdown",
   "metadata": {},
   "source": [
    "Następnie tworzę 3 zbiory danych, które są uszkodzone w 5, 15 i 40 procentach."
   ]
  },
  {
   "cell_type": "code",
   "execution_count": 13,
   "metadata": {},
   "outputs": [],
   "source": [
    "damaged5 = damage(X, 5)\n",
    "damaged15 = damage(X, 15)\n",
    "damaged40 = damage(X, 40) "
   ]
  },
  {
   "attachments": {},
   "cell_type": "markdown",
   "metadata": {},
   "source": [
    "Wyświetlam graficznie pierwszy zbiór danych, który jest uszkodzony w 5 procentach."
   ]
  },
  {
   "cell_type": "code",
   "execution_count": 14,
   "metadata": {},
   "outputs": [
    {
     "data": {
      "image/png": "[encoded data removed]",
      "text/plain": [
       "<Figure size 1400x800 with 10 Axes>"
      ]
     },
     "metadata": {},
     "output_type": "display_data"
    }
   ],
   "source": [
    "net.show(damaged5)"
   ]
  },
  {
   "attachments": {},
   "cell_type": "markdown",
   "metadata": {},
   "source": [
    "Wywołuje metodę ```predict_weights(X, ga.weights[0].values)``` na uszkodzonych danych."
   ]
  },
  {
   "cell_type": "code",
   "execution_count": 15,
   "metadata": {},
   "outputs": [
    {
     "name": "stdout",
     "output_type": "stream",
     "text": [
      "[array([ 1, -1, -1, -1, -1, -1, -1,  1, -1, -1]), array([-1,  1, -1, -1, -1, -1, -1, -1, -1, -1]), array([-1, -1,  1, -1, -1, -1, -1, -1, -1, -1]), array([-1, -1, -1,  1, -1, -1, -1, -1, -1, -1]), array([-1, -1, -1, -1, -1, -1, -1, -1, -1, -1]), array([-1, -1, -1, -1, -1,  1, -1,  1, -1,  1]), array([-1, -1, -1, -1, -1, -1, -1, -1,  1, -1]), array([-1, -1, -1, -1, -1,  1, -1,  1, -1, -1]), array([-1, -1, -1,  1, -1, -1, -1, -1, -1, -1]), array([-1, -1, -1, -1, -1, -1, -1, -1, -1,  1])]\n"
     ]
    }
   ],
   "source": [
    "print(net.predict_weights(damaged5, ga.weights[0].values))"
   ]
  },
  {
   "attachments": {},
   "cell_type": "markdown",
   "metadata": {},
   "source": [
    "Następnie wyświetlam ilość błędów. "
   ]
  },
  {
   "cell_type": "code",
   "execution_count": 16,
   "metadata": {},
   "outputs": [
    {
     "name": "stdout",
     "output_type": "stream",
     "text": [
      "9\n"
     ]
    }
   ],
   "source": [
    "print(net.misclassified_weights(damaged5, y, ga.weights[0]))"
   ]
  },
  {
   "attachments": {},
   "cell_type": "markdown",
   "metadata": {},
   "source": [
    "> 9 błędnch odpowiedzi."
   ]
  },
  {
   "attachments": {},
   "cell_type": "markdown",
   "metadata": {},
   "source": [
    "Wyświetlam graficznie drugi zbiór danych, który jest uszkodzony w 15 procentach."
   ]
  },
  {
   "cell_type": "code",
   "execution_count": 17,
   "metadata": {},
   "outputs": [
    {
     "data": {
      "image/png": "[encoded data removed]",
      "text/plain": [
       "<Figure size 1400x800 with 10 Axes>"
      ]
     },
     "metadata": {},
     "output_type": "display_data"
    }
   ],
   "source": [
    "net.show(damaged15)"
   ]
  },
  {
   "attachments": {},
   "cell_type": "markdown",
   "metadata": {},
   "source": [
    "Wywołuje metodę ```predict_weights(X, ga.weights[0].values)``` na uszkodzonych danych."
   ]
  },
  {
   "cell_type": "code",
   "execution_count": 18,
   "metadata": {},
   "outputs": [
    {
     "name": "stdout",
     "output_type": "stream",
     "text": [
      "[array([-1, -1,  1, -1, -1, -1, -1,  1, -1, -1]), array([-1, -1,  1, -1, -1, -1, -1,  1, -1, -1]), array([ 1, -1, -1, -1, -1, -1,  1, -1, -1, -1]), array([-1, -1, -1,  1, -1, -1, -1, -1,  1, -1]), array([-1, -1, -1, -1, -1, -1, -1, -1, -1, -1]), array([-1, -1, -1, -1, -1,  1, -1, -1, -1,  1]), array([-1, -1, -1, -1, -1, -1, -1, -1, -1, -1]), array([-1, -1, -1, -1, -1, -1, -1,  1, -1, -1]), array([-1, -1, -1,  1, -1, -1, -1, -1, -1, -1]), array([-1, -1,  1, -1, -1, -1, -1, -1, -1,  1])]\n"
     ]
    }
   ],
   "source": [
    "print(net.predict_weights(damaged15, ga.weights[0].values))"
   ]
  },
  {
   "attachments": {},
   "cell_type": "markdown",
   "metadata": {},
   "source": [
    "Następnie wyświetlam ilość błędów. "
   ]
  },
  {
   "cell_type": "code",
   "execution_count": 19,
   "metadata": {},
   "outputs": [
    {
     "name": "stdout",
     "output_type": "stream",
     "text": [
      "16\n"
     ]
    }
   ],
   "source": [
    "print(net.misclassified_weights(damaged15, y, ga.weights[0]))"
   ]
  },
  {
   "attachments": {},
   "cell_type": "markdown",
   "metadata": {},
   "source": [
    "> 16 błędnch odpowiedzi."
   ]
  },
  {
   "attachments": {},
   "cell_type": "markdown",
   "metadata": {},
   "source": [
    "Wyświetlam graficznie trzeci zbiór danych, który jest uszkodzony w 40 procentach."
   ]
  },
  {
   "cell_type": "code",
   "execution_count": 20,
   "metadata": {},
   "outputs": [
    {
     "data": {
      "image/png": "[encoded data removed]",
      "text/plain": [
       "<Figure size 1400x800 with 10 Axes>"
      ]
     },
     "metadata": {},
     "output_type": "display_data"
    }
   ],
   "source": [
    "net.show(damaged40)"
   ]
  },
  {
   "attachments": {},
   "cell_type": "markdown",
   "metadata": {},
   "source": [
    "Wywołuje metodę ```predict_weights(X, ga.weights[0].values)``` na uszkodzonych danych."
   ]
  },
  {
   "cell_type": "code",
   "execution_count": 21,
   "metadata": {},
   "outputs": [
    {
     "name": "stdout",
     "output_type": "stream",
     "text": [
      "[array([-1, -1,  1, -1, -1, -1, -1,  1, -1, -1]), array([-1, -1,  1,  1,  1, -1, -1,  1, -1,  1]), array([ 1, -1,  1, -1, -1, -1,  1, -1, -1, -1]), array([-1, -1, -1, -1, -1, -1,  1, -1,  1,  1]), array([-1, -1, -1, -1, -1, -1, -1, -1, -1, -1]), array([ 1,  1, -1, -1, -1,  1, -1,  1,  1, -1]), array([ 1, -1, -1,  1, -1, -1,  1, -1, -1, -1]), array([ 1, -1,  1, -1, -1,  1, -1, -1, -1, -1]), array([-1, -1, -1,  1, -1, -1, -1, -1,  1, -1]), array([-1, -1,  1, -1, -1, -1, -1, -1, -1,  1])]\n"
     ]
    }
   ],
   "source": [
    "print(net.predict_weights(damaged40, ga.weights[0].values))"
   ]
  },
  {
   "attachments": {},
   "cell_type": "markdown",
   "metadata": {},
   "source": [
    "Następnie wyświetlam ilość błędów."
   ]
  },
  {
   "cell_type": "code",
   "execution_count": 22,
   "metadata": {},
   "outputs": [
    {
     "name": "stdout",
     "output_type": "stream",
     "text": [
      "28\n"
     ]
    }
   ],
   "source": [
    "print(net.misclassified_weights(damaged40, y, ga.weights[0]))"
   ]
  },
  {
   "attachments": {},
   "cell_type": "markdown",
   "metadata": {},
   "source": [
    "> 28 błędnch odpowiedzi."
   ]
  }
 ],
 "metadata": {
  "kernelspec": {
   "display_name": "Python 3",
   "language": "python",
   "name": "python3"
  },
  "language_info": {
   "codemirror_mode": {
    "name": "ipython",
    "version": 3
   },
   "file_extension": ".py",
   "mimetype": "text/x-python",
   "name": "python",
   "nbconvert_exporter": "python",
   "pygments_lexer": "ipython3",
   "version": "3.11.3"
  },
  "orig_nbformat": 4
 },
 "nbformat": 4,
 "nbformat_minor": 2
}
