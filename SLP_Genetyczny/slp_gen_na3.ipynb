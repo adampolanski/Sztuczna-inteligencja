{
 "cells": [
  {
   "attachments": {},
   "cell_type": "markdown",
   "metadata": {},
   "source": [
    "# Uczenie SLP z wykorzystaniem algorytmu genetycznego - część 1\n",
    "\n",
    "Ten plik zawiera notatnik, w którym wykonuje zadanie na ocene 3.\n",
    "\n",
    "---"
   ]
  },
  {
   "attachments": {},
   "cell_type": "markdown",
   "metadata": {},
   "source": [
    "## Przygotowanie środowiska.\n"
   ]
  },
  {
   "attachments": {},
   "cell_type": "markdown",
   "metadata": {},
   "source": [
    "Importuję potrzebne biblioteki."
   ]
  },
  {
   "cell_type": "code",
   "execution_count": 1,
   "metadata": {},
   "outputs": [],
   "source": [
    "import numpy as np\n",
    "import pandas as pd\n",
    "import matplotlib.pyplot as plt\n",
    "import random\n",
    "\n",
    "%matplotlib inline"
   ]
  },
  {
   "attachments": {},
   "cell_type": "markdown",
   "metadata": {},
   "source": [
    "Pobieram dane i wyświetlam 5 ostatnich wierszy."
   ]
  },
  {
   "cell_type": "code",
   "execution_count": 2,
   "metadata": {},
   "outputs": [
    {
     "name": "stdout",
     "output_type": "stream",
     "text": [
      "URL: https://archive.ics.uci.edu/ml/machine-learning-databases/iris/iris.data\n"
     ]
    },
    {
     "data": {
      "text/html": [
       "<div>\n",
       "<style scoped>\n",
       "    .dataframe tbody tr th:only-of-type {\n",
       "        vertical-align: middle;\n",
       "    }\n",
       "\n",
       "    .dataframe tbody tr th {\n",
       "        vertical-align: top;\n",
       "    }\n",
       "\n",
       "    .dataframe thead th {\n",
       "        text-align: right;\n",
       "    }\n",
       "</style>\n",
       "<table border=\"1\" class=\"dataframe\">\n",
       "  <thead>\n",
       "    <tr style=\"text-align: right;\">\n",
       "      <th></th>\n",
       "      <th>0</th>\n",
       "      <th>1</th>\n",
       "      <th>2</th>\n",
       "      <th>3</th>\n",
       "      <th>4</th>\n",
       "    </tr>\n",
       "  </thead>\n",
       "  <tbody>\n",
       "    <tr>\n",
       "      <th>145</th>\n",
       "      <td>6.7</td>\n",
       "      <td>3.0</td>\n",
       "      <td>5.2</td>\n",
       "      <td>2.3</td>\n",
       "      <td>Iris-virginica</td>\n",
       "    </tr>\n",
       "    <tr>\n",
       "      <th>146</th>\n",
       "      <td>6.3</td>\n",
       "      <td>2.5</td>\n",
       "      <td>5.0</td>\n",
       "      <td>1.9</td>\n",
       "      <td>Iris-virginica</td>\n",
       "    </tr>\n",
       "    <tr>\n",
       "      <th>147</th>\n",
       "      <td>6.5</td>\n",
       "      <td>3.0</td>\n",
       "      <td>5.2</td>\n",
       "      <td>2.0</td>\n",
       "      <td>Iris-virginica</td>\n",
       "    </tr>\n",
       "    <tr>\n",
       "      <th>148</th>\n",
       "      <td>6.2</td>\n",
       "      <td>3.4</td>\n",
       "      <td>5.4</td>\n",
       "      <td>2.3</td>\n",
       "      <td>Iris-virginica</td>\n",
       "    </tr>\n",
       "    <tr>\n",
       "      <th>149</th>\n",
       "      <td>5.9</td>\n",
       "      <td>3.0</td>\n",
       "      <td>5.1</td>\n",
       "      <td>1.8</td>\n",
       "      <td>Iris-virginica</td>\n",
       "    </tr>\n",
       "  </tbody>\n",
       "</table>\n",
       "</div>"
      ],
      "text/plain": [
       "       0    1    2    3               4\n",
       "145  6.7  3.0  5.2  2.3  Iris-virginica\n",
       "146  6.3  2.5  5.0  1.9  Iris-virginica\n",
       "147  6.5  3.0  5.2  2.0  Iris-virginica\n",
       "148  6.2  3.4  5.4  2.3  Iris-virginica\n",
       "149  5.9  3.0  5.1  1.8  Iris-virginica"
      ]
     },
     "execution_count": 2,
     "metadata": {},
     "output_type": "execute_result"
    }
   ],
   "source": [
    "s ='https://archive.ics.uci.edu/ml/machine-learning-databases/iris/iris.data'\n",
    "print('URL:', s)\n",
    "df = pd.read_csv(s,\n",
    "header=None,\n",
    "encoding='utf-8')\n",
    "\n",
    "df.tail(5)"
   ]
  },
  {
   "attachments": {},
   "cell_type": "markdown",
   "metadata": {},
   "source": [
    "---\n",
    "\n",
    "## Przygotowanie danych."
   ]
  },
  {
   "attachments": {},
   "cell_type": "markdown",
   "metadata": {},
   "source": [
    "W poniższej komórce przygotowuję dane:\n",
    "- tworzę zbiór y, czyli zbiór odpowiedzi,\n",
    "- przycinam dane ze zmiennej X i w rezultacie zostaje z 2 kolumnami, przez co problem staje się 2-wymiarowy.\n",
    "- Przesuwam zbiór '*versicolor*' w prawo i w dół, przec co problem staje się liniowo separowalny \n",
    "\n",
    "Następnie wyświetlam graficznie zbiór danych X."
   ]
  },
  {
   "cell_type": "code",
   "execution_count": 3,
   "metadata": {},
   "outputs": [
    {
     "data": {
      "image/png": "[encoded data removed]",
      "text/plain": [
       "<Figure size 640x480 with 1 Axes>"
      ]
     },
     "metadata": {},
     "output_type": "display_data"
    }
   ],
   "source": [
    "names = df.iloc[:, 4].values\n",
    "y = [0, 0, 0]\n",
    "y[0] = np.where(names == 'Iris-setosa', 1, -1)\n",
    "y[1] = np.where(names == 'Iris-versicolor', 1, -1)\n",
    "y[2] = np.where(names == 'Iris-virginica', 1, -1)\n",
    "\n",
    "\n",
    "X = df.iloc[:, [0, 2]].values\n",
    "\n",
    "X[50:100, 0] += 2   # przesunięcie zbioru versicolor w prawo\n",
    "X[50:100, 1] -= 2   # przesunięcie zbioru versicolor w dół\n",
    "# problem staje się liniowo separowalny\n",
    "\n",
    "plt.scatter(X[:50, 0], X[:50, 1],\n",
    "color='red', marker='o', label='setosa')\n",
    "plt.scatter(X[50:100, 0], X[50:100, 1],\n",
    "color='blue', marker='x', label='versicolor')\n",
    "plt.scatter(X[100:150, 0], X[100:150, 1],\n",
    "color='green', marker='v', label='virginica')\n",
    "plt.xlabel('sepal length [cm]')\n",
    "plt.ylabel('petal length [cm]')\n",
    "plt.legend(loc='upper left')\n",
    "plt.show()"
   ]
  },
  {
   "attachments": {},
   "cell_type": "markdown",
   "metadata": {},
   "source": [
    "---\n",
    "\n",
    "## Klasy"
   ]
  },
  {
   "attachments": {},
   "cell_type": "markdown",
   "metadata": {},
   "source": [
    "Klasa Perceptron - żadnych zmian względem poprzednich projektów."
   ]
  },
  {
   "cell_type": "code",
   "execution_count": 4,
   "metadata": {},
   "outputs": [],
   "source": [
    "class Perceptron(object):\n",
    "  def __init__(self, eta=0.01, n_iter=50, random_state=1):\n",
    "    self.eta = eta\n",
    "    self.n_iter = n_iter\n",
    "    self.random_state = random_state\n",
    "\n",
    "  def fit(self, X, y):\n",
    "    rgen = np.random.RandomState(self.random_state)\n",
    "    self.w_ = rgen.normal(loc=0.0, scale=0.01, size=1 + X.shape[1])\n",
    "    self.errors_ = []\n",
    "    for _ in range(self.n_iter):\n",
    "      errors = 0\n",
    "      for xi, target in zip(X, y):\n",
    "        update = self.eta * (target - self.predict(xi))\n",
    "        self.w_[1:] += update * xi\n",
    "        self.w_[0] += update\n",
    "        errors += int(update != 0.0)\n",
    "      self.errors_.append(errors)\n",
    "    return self\n",
    "  \n",
    "  def net_input(self, X):\n",
    "    return np.dot(X, self.w_[1:]) + self.w_[0]\n",
    "  \n",
    "  def predict(self, X):\n",
    "    return np.where(self.net_input(X) >= 0.0, 1, -1)"
   ]
  },
  {
   "attachments": {},
   "cell_type": "markdown",
   "metadata": {},
   "source": [
    "Klasa SLP - dodano kilka zmian:\n",
    "\n",
    "- metoda ```create_perceptrons(self, size)``` \n",
    "    - tworzy listę perceptronów o podanym rozmiarze. \n",
    "    <br><br>\n",
    "    > *Przydatne przy korzystaniu z algorytmu genetycznego.* \n",
    "    <br><br>\n",
    "- metoda ```predict_weights(self, X, weights)``` \n",
    "    - taka sama jak ```predict(self, X)```, lecz w tym przypadku zamieniamy wagi perceptronów, na wagi z wektora podanego w argumencie <br><br>\n",
    "- metoda ```misclassified_weights(self, y, X, weights)``` \n",
    "    - taka sama jak ```misclassified(self, y, X)```, lecz w tym przypadku wywołujemy metodę ```predict_weights(self, X, weights)``` przekazując wartości ```values``` z obiektu typu ```Weight``` podanego w dodatkowym argumencie."
   ]
  },
  {
   "cell_type": "code",
   "execution_count": 5,
   "metadata": {},
   "outputs": [],
   "source": [
    "class SLP(object):\n",
    "  def __init__(self, eta=0.01, n_iter=50, random_state=1):\n",
    "    self.eta = eta\n",
    "    self.n_iter = n_iter\n",
    "    self.random_state = random_state\n",
    "\n",
    "  def create_perceptrons(self, size):\n",
    "    self.perceptrons_ = []\n",
    "    for i in range(0, size):\n",
    "      self.perceptrons_.append(Perceptron(eta=self.eta, n_iter=self.n_iter, random_state=self.random_state))\n",
    "\n",
    "  def fit(self, X, y):\n",
    "    self.errors_ = []\n",
    "    self.perceptrons_ = []\n",
    "    for i in range(0, len(y)):\n",
    "      self.perceptrons_.append(Perceptron(eta=self.eta, n_iter=self.n_iter, random_state=self.random_state))\n",
    "      self.perceptrons_[i].fit(X, y[i])\n",
    "      if len(self.errors_) == 0:\n",
    "        self.errors_ = self.perceptrons_[i].errors_\n",
    "      else:\n",
    "        self.errors_ = [sum(j) for j in zip(self.errors_, self.perceptrons_[i].errors_)]\n",
    "\n",
    "  def predict(self, X):\n",
    "    self.predictions = [0] * len(self.perceptrons_)\n",
    "    for i in range(0, len(self.perceptrons_)):\n",
    "      self.predictions[i] = self.perceptrons_[i].predict(X)\n",
    "    return self.predictions\n",
    "  \n",
    "  def misclassified(self, y, X):\n",
    "    result = 0\n",
    "    predictions = self.predict(X)\n",
    "    predictions = [list(map(lambda x: int(x * (-1)), i)) for i in predictions]\n",
    "    for i in range(0, len(y)):\n",
    "      result =  result + (sum(map(lambda x: abs(x) // 2, map(sum, zip(predictions[i], y[i])))))\n",
    "    return result\n",
    "  \n",
    "  def predict_weights(self, X, weights):\n",
    "    self.predictions = [0] * len(self.perceptrons_)\n",
    "    for i in range(0, len(self.perceptrons_)):\n",
    "      start_weights = i * (1 + X.shape[1])\n",
    "      end_weights = (i + 1) * (1 + X.shape[1])\n",
    "\n",
    "      self.perceptrons_[i].w_ = weights[start_weights:end_weights]\n",
    "      self.predictions[i] = self.perceptrons_[i].predict(X)\n",
    "\n",
    "    return self.predictions\n",
    "\n",
    "  def misclassified_weights(self, y, X, weights):\n",
    "    result = 0\n",
    "    predictions = self.predict_weights(X, weights.values)\n",
    "    predictions = [list(map(lambda x: int(x * (-1)), i)) for i in predictions]\n",
    "    for i in range(0, len(y)):\n",
    "      result += (sum(map(lambda x: abs(x) // 2, map(sum, zip(predictions[i], y[i])))))\n",
    "    return result"
   ]
  },
  {
   "attachments": {},
   "cell_type": "markdown",
   "metadata": {},
   "source": [
    "Klasa Weight:\n",
    "- atrybuty:\n",
    "    - ```values``` -> wektor, który reprezentuje wagi przekazywane do perceptronów.\n",
    "    - ```errors``` -> liczba całkowita, która zawiera informację o ilości popełnionych błędów przy próbie predykcji za pomocą wag z wektora ```values```.\n",
    "    <br><br>\n",
    "- metoda ```set_random(self, lower_bound=-100, upper_bound=100)``` \n",
    "    - ustawia losowe wartości wag z podanego w argumentach zakresu.\n",
    "<br><br>\n",
    "- metoda ```fit(self, X, y)``` \n",
    "    - dokonuje oceny wag zawartych w atrybucie ```values``` i zapisuje ilość błędów do zmiennej ```errors```."
   ]
  },
  {
   "cell_type": "code",
   "execution_count": 6,
   "metadata": {},
   "outputs": [],
   "source": [
    "class Weight:\n",
    "    def __init__(self, slp, values):\n",
    "        self.slp = slp\n",
    "        self.values = values\n",
    "        self.errors = 0\n",
    "\n",
    "    def set_random(self, lower_bound=-100, upper_bound=100):\n",
    "        for i in range(0, len(self.values)):\n",
    "            self.values[i] = random.uniform(lower_bound, upper_bound)\n",
    "\n",
    "    def fit(self, X, y):\n",
    "        self.errors = self.slp.misclassified_weights(y, X, self)"
   ]
  },
  {
   "attachments": {},
   "cell_type": "markdown",
   "metadata": {},
   "source": [
    "Klasa Gen_SLP:\n",
    "- atrybuty:\n",
    "    - ```slp``` -> obiekt typu ```SLP``` wykorzystywany do predykcji.\n",
    "    - ```max_iter``` -> liczba całkowita, która określa maksymalną ilość iteracji algorytmu genetycznego.\n",
    "    - ```size``` -> liczba całkowita, która określa rozmiar populacji.\n",
    "    - ```lower_bound``` -> liczba całkowita, która określa dolny zakres losowania wag.\n",
    "    - ```upper_bound``` -> liczba całkowita, która określa górny zakres losowania wag.\n",
    "    - ```random_state``` -> liczba całkowita, która określa ziarno losowania.\n",
    "    - ```best_errors``` -> lista, która zawiera informację o ilości błędów najlepszego osobnika w każdej iteracji.\n",
    "    - ```avg_errors``` -> lista, która zawiera informację o średniej ilości błędów w każdej iteracji.\n",
    "    - ```weights``` -> lista, która zawiera obiekty typu ```Weight```, które reprezentują osobniki w populacji.\n",
    "    <br><br>\n",
    "- metoda ```sort_weights(self, low, high)``` \n",
    "    - sortuje osobniki w populacji według ilości błędów, od najmniejszej do największej, za pomocą algorytmu sortowania szybkiego.\n",
    "    <br><br>\n",
    "- metoda ```next_generation(self)``` \n",
    "    - tworzy nową populację na podstawie instrukcji podanych w zadaniu.\n",
    "    <br><br>\n",
    "- metoda ```append_stats(self)``` \n",
    "    - dodaje do list ```best_errors``` i ```avg_errors``` informacje o ilości błędów najlepszego osobnika i średniej ilości błędów w populacji.\n",
    "    <br><br>\n",
    "- metoda ```show_stats(self)``` \n",
    "    - wyświetla wykres ilości błędów najlepszego osobnika i średniej ilości błędów w populacji w każdej iteracji.\n",
    "    <br><br>\n",
    "- metoda ```fit(self, X, y)``` \n",
    "    - rozpoczyna proces uczenia algorytmu genetycznego."
   ]
  },
  {
   "cell_type": "code",
   "execution_count": 12,
   "metadata": {},
   "outputs": [],
   "source": [
    "class Gen_SLP:\n",
    "    def __init__(self, slp, max_iter=1000, size=100, lower_bound=-100, upper_bound=100, random_state=1):\n",
    "        random.seed(random_state)\n",
    "        self.slp = slp\n",
    "        self.max_iter = max_iter\n",
    "        self.size = size\n",
    "        self.lower_bound = lower_bound\n",
    "        self.upper_bound = upper_bound\n",
    "        self.random_state = random_state\n",
    "\n",
    "        self.best_errors = []\n",
    "        self.avg_errors = []\n",
    "\n",
    "        self.weights = []\n",
    "\n",
    "    def sort_weights(self, low, high):\n",
    "        if low < high:\n",
    "            pivot = self.weights[high-1]\n",
    "            i = low\n",
    "            for x in range(low, high-1):\n",
    "                if self.weights[x].errors <= pivot.errors:\n",
    "                    (self.weights[i], self.weights[x]) = (self.weights[x], self.weights[i])\n",
    "                    i = i + 1\n",
    " \n",
    "            (self.weights[i], self.weights[high - 1]) = (self.weights[high - 1], self.weights[i])\n",
    "\n",
    "            pi = i\n",
    " \n",
    "            self.sort_weights(low, pi)\n",
    "            self.sort_weights(pi + 1, high)\n",
    "\n",
    "    def next_generation(self):\n",
    "        new_weights = []\n",
    "        for i in range(0, self.size // 10):\n",
    "            new_weights.append(self.weights[i])\n",
    "\n",
    "        for i in range(self.size // 10, self.size):\n",
    "            p1 = 0\n",
    "            p2 = 0\n",
    "            while p1 == p2:\n",
    "                p1 = random.randint(0,49)\n",
    "                p2 = random.randint(0,49)\n",
    "\n",
    "            par1 = self.weights[p1]\n",
    "            par2 = self.weights[p2]\n",
    "\n",
    "            mutation = Weight(self.slp, [0] * len(self.weights[0].values))\n",
    "            mutation.set_random(self.lower_bound, self.upper_bound)\n",
    "\n",
    "            for y in range(0, len(mutation.values)):\n",
    "                r = random.random()\n",
    "                if r < 0.45:\n",
    "                    mutation.values[y] = par1.values[y]\n",
    "                elif r >= 0.45 and r < 0.90:\n",
    "                    mutation.values[y] = par2.values[y]\n",
    "      \n",
    "            new_weights.append(mutation)\n",
    "            \n",
    "        self.weights = new_weights\n",
    "        return new_weights    \n",
    "\n",
    "    def append_stats(self):\n",
    "        self.best_errors.append(self.weights[0].errors)\n",
    "        self.avg_errors.append(sum([x.errors for x in self.weights]) / self.size)\n",
    "\n",
    "    def show_stats(self):\n",
    "        plt.plot(range(0, len(self.best_errors)), self.best_errors, marker='o', label='Najlepszy wynik')\n",
    "        plt.plot(range(0, len(self.avg_errors)), self.avg_errors, marker='o', label='Średni wynik')\n",
    "        plt.xlabel('Generacja')\n",
    "        plt.ylabel('Ilość błędów')\n",
    "        plt.legend()\n",
    "        plt.show()\n",
    "\n",
    "    def fit(self, X, y):\n",
    "        # tworzona jest populacja początkowa\n",
    "        self.weights = []\n",
    "        for i in range(0, self.size):\n",
    "            self.weights.append(Weight(self.slp, [0] * ((1 + X.shape[1]) * len(y))))\n",
    "            self.weights[i].set_random(self.lower_bound, self.upper_bound)\n",
    "            self.weights[i].fit(X, y)\n",
    "        \n",
    "        self.sort_weights(0, self.size)\n",
    "        self.append_stats()\n",
    "\n",
    "        # wyświetlenie wyników dla populacji początkowej\n",
    "        print('Iteracja 1: ')\n",
    "        print(f'Najlepszy wynik:\\n Ilość błędów: {self.best_errors[0]}')\n",
    "        print(f'Średni wynik:\\n Ilość błędów: {self.avg_errors[0]}')\n",
    "        \n",
    "        print(self.weights[0].values)\n",
    "\n",
    "        for i in range(1, self.max_iter):\n",
    "            self.weights = self.next_generation()\n",
    "            for x in self.weights:\n",
    "                x.fit(X, y)\n",
    "            self.sort_weights(0, self.size)\n",
    "            self.append_stats()\n",
    "\n",
    "            if self.best_errors[i] == 0:\n",
    "                print(f'Iteracja {i + 1}: ')\n",
    "                print(f'Najlepszy wynik:\\n Ilość błędów: {self.best_errors[i]}')\n",
    "                print(f'Średni wynik:\\n Ilość błędów: {self.avg_errors[i]}')\n",
    "                print(f'Najlepsze wagi: {self.weights[0].values}')\n",
    "                self.show_stats()\n",
    "                break\n",
    "            \n",
    "            # do sprawdzania postępu algorytmu:\n",
    "            \n",
    "            # if (i + 1) % 10 == 0:\n",
    "            #     print(f'Iteracja {i + 1}: ')\n",
    "            #     print(f'Najlepszy wynik:\\n Ilość błędów: {self.best_errors[i]}')\n",
    "            #     print(f'Średni wynik:\\n Ilość błędów: {self.avg_errors[i]}')\n",
    "            #     print(f'Najlepsze wagi: {self.weights[40].values}')\n",
    "\n"
   ]
  },
  {
   "attachments": {},
   "cell_type": "markdown",
   "metadata": {},
   "source": [
    "---\n",
    "\n",
    "## Testowanie zwykłego uczenia linowego SLP."
   ]
  },
  {
   "attachments": {},
   "cell_type": "markdown",
   "metadata": {},
   "source": [
    "Tworzę obiekt typu ```SLP``` , dokonuję uczenia i wyświetlam wyniki."
   ]
  },
  {
   "cell_type": "code",
   "execution_count": 13,
   "metadata": {},
   "outputs": [
    {
     "name": "stdout",
     "output_type": "stream",
     "text": [
      "Liczba błędnie sklasyfikowanych próbek: 0\n"
     ]
    },
    {
     "data": {
      "image/png": "[encoded data removed]",
      "text/plain": [
       "<Figure size 640x480 with 1 Axes>"
      ]
     },
     "metadata": {},
     "output_type": "display_data"
    },
    {
     "name": "stdout",
     "output_type": "stream",
     "text": [
      "CPU times: total: 1.64 s\n",
      "Wall time: 1.64 s\n"
     ]
    }
   ],
   "source": [
    "%%time\n",
    "slp = SLP(eta=0.01, n_iter=500)\n",
    "slp.fit(X, y)\n",
    "print(f'Liczba błędnie sklasyfikowanych próbek: {slp.misclassified(y, X)}')\n",
    "plt.plot(range(0, len(slp.errors_) ), slp.errors_, marker='o')\n",
    "plt.xlabel('Epochs')\n",
    "plt.ylabel('Number of updates')\n",
    "plt.show()"
   ]
  },
  {
   "attachments": {},
   "cell_type": "markdown",
   "metadata": {},
   "source": [
    "Jak widać, algorytm uczenia liniowego do nauczenia się tego problemu potrzebuje około 160 iteracji a czas trwania uczenia wynosi około 1.6 sekundy."
   ]
  },
  {
   "attachments": {},
   "cell_type": "markdown",
   "metadata": {},
   "source": [
    "---\n",
    "\n",
    "## Testowanie algorytmu genetycznego."
   ]
  },
  {
   "attachments": {},
   "cell_type": "markdown",
   "metadata": {},
   "source": [
    "Tworzony jest obiekt typu ```Gen_SLP``` i dokonywane jest uczenie."
   ]
  },
  {
   "cell_type": "code",
   "execution_count": 14,
   "metadata": {},
   "outputs": [
    {
     "name": "stdout",
     "output_type": "stream",
     "text": [
      "Iteracja 1: \n",
      "Najlepszy wynik:\n",
      " Ilość błędów: 84\n",
      "Średni wynik:\n",
      " Ilość błędów: 225.97\n",
      "[0.7022831885201011, -0.08309264471529065, -0.6204789435785716, -0.40129144942767137, 0.38266895178077354, -0.9889858433489138, -0.7599107053598033, -0.3946927262471327, 0.7743827103664336]\n",
      "Iteracja 368: \n",
      "Najlepszy wynik:\n",
      " Ilość błędów: 0\n",
      "Średni wynik:\n",
      " Ilość błędów: 58.93\n",
      "Najlepsze wagi: [0.43646352089185303, -0.05533148916147468, -0.054430845260267535, -0.9151571427026675, 0.14535706622394629, -0.05872083941460038, 0.5234795147058084, -0.48095452681945505, 0.7326124895751625]\n"
     ]
    },
    {
     "data": {
      "image/png": "[encoded data removed]",
      "text/plain": [
       "<Figure size 640x480 with 1 Axes>"
      ]
     },
     "metadata": {},
     "output_type": "display_data"
    },
    {
     "name": "stdout",
     "output_type": "stream",
     "text": [
      "CPU times: total: 6.97 s\n",
      "Wall time: 6.85 s\n"
     ]
    }
   ],
   "source": [
    "%%time\n",
    "slp = SLP()\n",
    "slp.create_perceptrons(len(y))\n",
    "ga = Gen_SLP(slp, max_iter=10000, lower_bound=-1, upper_bound=1, size=100, random_state=1)\n",
    "ga.fit(X, y)"
   ]
  },
  {
   "attachments": {},
   "cell_type": "markdown",
   "metadata": {},
   "source": [
    "Na nauczenie algorytmu genetycznego potrzeba było dokładnie 368 iteracji, a czas trwania uczenia wyniósł prawie 7 sekund.\n",
    "\n",
    "Ilość iteracji, jak i czas trwania uczenia jest wysoce zależna od ziarna losowania."
   ]
  },
  {
   "attachments": {},
   "cell_type": "markdown",
   "metadata": {},
   "source": [
    "Na koniec sprawdzam, czy nauka algorytmu genetycznego rzeczywiście przebiegła pomyślnie, porównując wynik funkcji ```predict_weights``` ze zbiorem odpowiedzi ```y```. "
   ]
  },
  {
   "cell_type": "code",
   "execution_count": 15,
   "metadata": {},
   "outputs": [
    {
     "data": {
      "text/plain": [
       "True"
      ]
     },
     "execution_count": 15,
     "metadata": {},
     "output_type": "execute_result"
    }
   ],
   "source": [
    "predicted = slp.predict_weights(X, ga.weights[0].values)\n",
    "np.array_equal(predicted, y)"
   ]
  }
 ],
 "metadata": {
  "kernelspec": {
   "display_name": "Python 3",
   "language": "python",
   "name": "python3"
  },
  "language_info": {
   "codemirror_mode": {
    "name": "ipython",
    "version": 3
   },
   "file_extension": ".py",
   "mimetype": "text/x-python",
   "name": "python",
   "nbconvert_exporter": "python",
   "pygments_lexer": "ipython3",
   "version": "3.11.3"
  },
  "orig_nbformat": 4
 },
 "nbformat": 4,
 "nbformat_minor": 2
}
