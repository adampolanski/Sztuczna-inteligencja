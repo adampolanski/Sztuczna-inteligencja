{
  "nbformat": 4,
  "nbformat_minor": 0,
  "metadata": {
    "colab": {
      "provenance": []
    },
    "kernelspec": {
      "name": "python3",
      "display_name": "Python 3"
    },
    "language_info": {
      "name": "python"
    }
  },
  "cells": [
    {
      "cell_type": "markdown",
      "source": [
        "# Perceptron + letters\n",
        "\n",
        "Autor: Adam Polański"
      ],
      "metadata": {
        "id": "4KFX94rQQ8X0"
      }
    },
    {
      "cell_type": "markdown",
      "source": [
        "## Klasa Perceptron\n",
        "\n",
        "Klasa została utworzona podczas poprzednich zajęć zgodnie z instrukcją z pliku perceptron.pdf."
      ],
      "metadata": {
        "id": "3AWMs9i9RIm1"
      }
    },
    {
      "cell_type": "code",
      "source": [
        "import numpy as np\n",
        "class Perceptron(object):\n",
        "  def __init__(self, eta=0.01, n_iter=50, random_state=1):\n",
        "    self.eta = eta\n",
        "    self.n_iter = n_iter\n",
        "    self.random_state = random_state\n",
        "\n",
        "  def fit(self, X, y):\n",
        "    rgen = np.random.RandomState(self.random_state)\n",
        "    self.w_ = rgen.normal(loc=0.0, scale=0.01, size=1 + X.shape[1])\n",
        "    self.errors_ = []\n",
        "    for _ in range(self.n_iter):\n",
        "      errors = 0\n",
        "      for xi, target in zip(X, y):\n",
        "        update = self.eta * (target - self.predict(xi))\n",
        "        self.w_[1:] += update * xi\n",
        "        self.w_[0] += update\n",
        "        errors += int(update != 0.0)\n",
        "      self.errors_.append(errors)\n",
        "    return self\n",
        "  def net_input(self, X):\n",
        "    return np.dot(X, self.w_[1:]) + self.w_[0]\n",
        "  def predict(self, X):\n",
        "    return np.where(self.net_input(X) >= 0.0, 1, -1)\n"
      ],
      "metadata": {
        "id": "n9TayCCk7zUT"
      },
      "execution_count": 1,
      "outputs": []
    },
    {
      "cell_type": "markdown",
      "source": [
        "## Klasa SLP\n",
        "\n",
        "####Tworzenie klasy SLP krok po kroku:\n",
        "1. Na początku stworzyłem konstruktor klasy. Nie ma tu nic szczególnego.\n",
        "\n",
        "\n",
        "2. Stworzyłem metode ```fit(self, X, y)``` , a w niej: \n",
        "  - listę ```self.errors_ = []```, która w przyszłości będzie przechowywała sumę błędów wszystkich perceptronów w każdej kolejnej iteracji (epochu).\n",
        "  - listę ```self.perceptrons_ = [0] * len(X)```, która będzie przechowywała tyle obiektów klasy ```Perceptron```, aby na każdą litere przypadał dokładnie jeden z nich.\n",
        "  \n",
        "  Następnie dla każdej litery tworze obiekt typu ```Perceptron``` i wywołuje metode ```fit()``` tego obiektu, przekazując w argumentach wszsytkie 10 liter oraz odpowiedni wektor oczekiwanej odpowiedzi.\n",
        "\n",
        "  Następne linijki tej funkcji to sumowanie błędów do listy ```self.errors_```.\n",
        "\n",
        "\n",
        "3. Tworzę metode ```predict(self, X)```, która ma za zadanie generować wektory odpowiedzi.\n",
        "\n",
        " Tworzę w niej 2-wymiarową tablice zer, każdy wiersz odpowiada za odpowiedzi jednego perceptrona, a każda kolumna za jedną literę przekazaną w postaci elementu listy X.\n",
        " \n",
        " Dla każdego perceptrona wywołuje jego metode ```predict()``` i jej wynik zapisuje do odpowiedniego wiersza. Na koniec zwracam uzyskany zestaw odpowiedzi.\n",
        "\n",
        "4. Tworzę metode ```misclassified(self, X, y)``` , która korzystając z faktu, że odpowiedzi są zapisane w postaci liczb '*-1*' lub '*1*' zwraca sumę błędów ostatniego wywołania metody ```predict(X)``` (wynik wywołania metody zapisany jest w zmiennej ```self.predictions```) w stosunku do zestawu odpowiedzi '*y*'.\n",
        "\n",
        "  Aby uzyskać sumę błędów, najpierw 'odwracam' tablice ```self.predictions``` (dla każdego i w tablicy ```self.predictions``` wykonaj ```i = i * (-1)```). Aby nie modyfikować orginalnej tablicy odpowiedzi, wynik takiego działania zapisuje do zmiennej lokalnej.\n",
        "\n",
        "  Następnie sumuje każdy element z X i y, a wynik:\n",
        "   - '0' : oznacza że w danej komórce nie ma błędu\n",
        "   - '-2' : oznacza, że dany perceptron zareagował pozytywnie, mimo że nie powinien.\n",
        "   - '2' : oznacza, że dany perceptron nie zareagował pozytywnie, mimo że powinien.\n",
        "\n",
        "  Z każdego elementu takiej 'zsumowanej' tablicy, biore wartość bezwzględną (nie interesują nas typy błędów, a ich ilość) oraz wykonuje dzielenie całkowite przez 2, a następnie sumuje wszystkie elementy do jednej zmiennej. \n",
        "\n",
        "5. Ostatnia funkcja, to funkcja ```show(self, X)``` , która ma za zadanie wyświetlić zbiór liter 'X' w postaci graficznej. "
      ],
      "metadata": {
        "id": "TtyGXbf7RiI1"
      }
    },
    {
      "cell_type": "code",
      "execution_count": 2,
      "metadata": {
        "id": "wRlHrEXzcVbj"
      },
      "outputs": [],
      "source": [
        "import numpy as np\n",
        "import matplotlib.pyplot as plt\n",
        "class SLP(object):\n",
        "  def __init__(self, eta=0.05, n_iter=10, random_state=1):\n",
        "    self.eta = eta\n",
        "    self.n_iter = n_iter\n",
        "    self.random_state = random_state\n",
        "\n",
        "  def fit(self, X, y):\n",
        "    self.errors_ = []\n",
        "    self.perceptrons_ = [0] * len(X)\n",
        "    for i in range(0, len(y)):\n",
        "      self.perceptrons_[i] = Perceptron(eta=self.eta, n_iter=self.n_iter, random_state=self.random_state)\n",
        "      self.perceptrons_[i].fit(X, y[i])\n",
        "      if len(self.errors_) == 0:\n",
        "        self.errors_ = self.perceptrons_[i].errors_\n",
        "      else:\n",
        "        self.errors_ = [sum(j) for j in zip(self.errors_, self.perceptrons_[i].errors_)]\n",
        "\n",
        "  def predict(self, X):\n",
        "    self.predictions = np.zeros((len(self.perceptrons_), len(self.perceptrons_)))\n",
        "    for i in range(0, len(self.perceptrons_)):\n",
        "      self.predictions[i, :] = self.perceptrons_[i].predict(X)\n",
        "    return self.predictions\n",
        "  \n",
        "  def misclassified(self, X, y):\n",
        "    result = 0\n",
        "    predictions = self.predictions\n",
        "    predictions = [list(map(lambda x: int(x * (-1)), i)) for i in predictions]\n",
        "    for i in range(0, len(y)):\n",
        "      result =  result + (sum(map(lambda x: abs(x) // 2, map(sum, zip(predictions[i], y[i])))))\n",
        "      #print(list(map(lambda x: abs(x) // 2, map(sum, zip(predictions[i], y[i])))))\n",
        "    return result    \n",
        "      \n",
        "\n",
        "  def show(self, X):\n",
        "    fig, axs = plt.subplots(2, 5, figsize=(14, 8), sharex='col', sharey='row')\n",
        "\n",
        "    for i, x in enumerate(X):\n",
        "      ax = axs[i // 5, i % 5]\n",
        "      ax.imshow(x.reshape(7, 5), cmap='binary')\n",
        "\n",
        "    plt.show()"
      ]
    },
    {
      "cell_type": "markdown",
      "source": [
        "## Przygotowywanie danych.\n",
        "\n",
        "Wczytuje plik z danymi z dysku."
      ],
      "metadata": {
        "id": "65tKCiDlNgVe"
      }
    },
    {
      "cell_type": "code",
      "source": [
        "import pandas as pd\n",
        "from google.colab import files\n",
        "uploaded = files.upload()"
      ],
      "metadata": {
        "id": "B51pU1sFm7Ac",
        "colab": {
          "base_uri": "https://localhost:8080/",
          "height": 73
        },
        "outputId": "cc2c9d9b-aa40-4a29-a0b7-9dc5017b4ee7"
      },
      "execution_count": 4,
      "outputs": [
        {
          "output_type": "display_data",
          "data": {
            "text/plain": [
              "<IPython.core.display.HTML object>"
            ],
            "text/html": [
              "\n",
              "     <input type=\"file\" id=\"files-b8e83164-21b1-4f13-9d98-8f9b6f60d3b0\" name=\"files[]\" multiple disabled\n",
              "        style=\"border:none\" />\n",
              "     <output id=\"result-b8e83164-21b1-4f13-9d98-8f9b6f60d3b0\">\n",
              "      Upload widget is only available when the cell has been executed in the\n",
              "      current browser session. Please rerun this cell to enable.\n",
              "      </output>\n",
              "      <script>// Copyright 2017 Google LLC\n",
              "//\n",
              "// Licensed under the Apache License, Version 2.0 (the \"License\");\n",
              "// you may not use this file except in compliance with the License.\n",
              "// You may obtain a copy of the License at\n",
              "//\n",
              "//      http://www.apache.org/licenses/LICENSE-2.0\n",
              "//\n",
              "// Unless required by applicable law or agreed to in writing, software\n",
              "// distributed under the License is distributed on an \"AS IS\" BASIS,\n",
              "// WITHOUT WARRANTIES OR CONDITIONS OF ANY KIND, either express or implied.\n",
              "// See the License for the specific language governing permissions and\n",
              "// limitations under the License.\n",
              "\n",
              "/**\n",
              " * @fileoverview Helpers for google.colab Python module.\n",
              " */\n",
              "(function(scope) {\n",
              "function span(text, styleAttributes = {}) {\n",
              "  const element = document.createElement('span');\n",
              "  element.textContent = text;\n",
              "  for (const key of Object.keys(styleAttributes)) {\n",
              "    element.style[key] = styleAttributes[key];\n",
              "  }\n",
              "  return element;\n",
              "}\n",
              "\n",
              "// Max number of bytes which will be uploaded at a time.\n",
              "const MAX_PAYLOAD_SIZE = 100 * 1024;\n",
              "\n",
              "function _uploadFiles(inputId, outputId) {\n",
              "  const steps = uploadFilesStep(inputId, outputId);\n",
              "  const outputElement = document.getElementById(outputId);\n",
              "  // Cache steps on the outputElement to make it available for the next call\n",
              "  // to uploadFilesContinue from Python.\n",
              "  outputElement.steps = steps;\n",
              "\n",
              "  return _uploadFilesContinue(outputId);\n",
              "}\n",
              "\n",
              "// This is roughly an async generator (not supported in the browser yet),\n",
              "// where there are multiple asynchronous steps and the Python side is going\n",
              "// to poll for completion of each step.\n",
              "// This uses a Promise to block the python side on completion of each step,\n",
              "// then passes the result of the previous step as the input to the next step.\n",
              "function _uploadFilesContinue(outputId) {\n",
              "  const outputElement = document.getElementById(outputId);\n",
              "  const steps = outputElement.steps;\n",
              "\n",
              "  const next = steps.next(outputElement.lastPromiseValue);\n",
              "  return Promise.resolve(next.value.promise).then((value) => {\n",
              "    // Cache the last promise value to make it available to the next\n",
              "    // step of the generator.\n",
              "    outputElement.lastPromiseValue = value;\n",
              "    return next.value.response;\n",
              "  });\n",
              "}\n",
              "\n",
              "/**\n",
              " * Generator function which is called between each async step of the upload\n",
              " * process.\n",
              " * @param {string} inputId Element ID of the input file picker element.\n",
              " * @param {string} outputId Element ID of the output display.\n",
              " * @return {!Iterable<!Object>} Iterable of next steps.\n",
              " */\n",
              "function* uploadFilesStep(inputId, outputId) {\n",
              "  const inputElement = document.getElementById(inputId);\n",
              "  inputElement.disabled = false;\n",
              "\n",
              "  const outputElement = document.getElementById(outputId);\n",
              "  outputElement.innerHTML = '';\n",
              "\n",
              "  const pickedPromise = new Promise((resolve) => {\n",
              "    inputElement.addEventListener('change', (e) => {\n",
              "      resolve(e.target.files);\n",
              "    });\n",
              "  });\n",
              "\n",
              "  const cancel = document.createElement('button');\n",
              "  inputElement.parentElement.appendChild(cancel);\n",
              "  cancel.textContent = 'Cancel upload';\n",
              "  const cancelPromise = new Promise((resolve) => {\n",
              "    cancel.onclick = () => {\n",
              "      resolve(null);\n",
              "    };\n",
              "  });\n",
              "\n",
              "  // Wait for the user to pick the files.\n",
              "  const files = yield {\n",
              "    promise: Promise.race([pickedPromise, cancelPromise]),\n",
              "    response: {\n",
              "      action: 'starting',\n",
              "    }\n",
              "  };\n",
              "\n",
              "  cancel.remove();\n",
              "\n",
              "  // Disable the input element since further picks are not allowed.\n",
              "  inputElement.disabled = true;\n",
              "\n",
              "  if (!files) {\n",
              "    return {\n",
              "      response: {\n",
              "        action: 'complete',\n",
              "      }\n",
              "    };\n",
              "  }\n",
              "\n",
              "  for (const file of files) {\n",
              "    const li = document.createElement('li');\n",
              "    li.append(span(file.name, {fontWeight: 'bold'}));\n",
              "    li.append(span(\n",
              "        `(${file.type || 'n/a'}) - ${file.size} bytes, ` +\n",
              "        `last modified: ${\n",
              "            file.lastModifiedDate ? file.lastModifiedDate.toLocaleDateString() :\n",
              "                                    'n/a'} - `));\n",
              "    const percent = span('0% done');\n",
              "    li.appendChild(percent);\n",
              "\n",
              "    outputElement.appendChild(li);\n",
              "\n",
              "    const fileDataPromise = new Promise((resolve) => {\n",
              "      const reader = new FileReader();\n",
              "      reader.onload = (e) => {\n",
              "        resolve(e.target.result);\n",
              "      };\n",
              "      reader.readAsArrayBuffer(file);\n",
              "    });\n",
              "    // Wait for the data to be ready.\n",
              "    let fileData = yield {\n",
              "      promise: fileDataPromise,\n",
              "      response: {\n",
              "        action: 'continue',\n",
              "      }\n",
              "    };\n",
              "\n",
              "    // Use a chunked sending to avoid message size limits. See b/62115660.\n",
              "    let position = 0;\n",
              "    do {\n",
              "      const length = Math.min(fileData.byteLength - position, MAX_PAYLOAD_SIZE);\n",
              "      const chunk = new Uint8Array(fileData, position, length);\n",
              "      position += length;\n",
              "\n",
              "      const base64 = btoa(String.fromCharCode.apply(null, chunk));\n",
              "      yield {\n",
              "        response: {\n",
              "          action: 'append',\n",
              "          file: file.name,\n",
              "          data: base64,\n",
              "        },\n",
              "      };\n",
              "\n",
              "      let percentDone = fileData.byteLength === 0 ?\n",
              "          100 :\n",
              "          Math.round((position / fileData.byteLength) * 100);\n",
              "      percent.textContent = `${percentDone}% done`;\n",
              "\n",
              "    } while (position < fileData.byteLength);\n",
              "  }\n",
              "\n",
              "  // All done.\n",
              "  yield {\n",
              "    response: {\n",
              "      action: 'complete',\n",
              "    }\n",
              "  };\n",
              "}\n",
              "\n",
              "scope.google = scope.google || {};\n",
              "scope.google.colab = scope.google.colab || {};\n",
              "scope.google.colab._files = {\n",
              "  _uploadFiles,\n",
              "  _uploadFilesContinue,\n",
              "};\n",
              "})(self);\n",
              "</script> "
            ]
          },
          "metadata": {}
        },
        {
          "output_type": "stream",
          "name": "stdout",
          "text": [
            "Saving letters.data to letters.data\n"
          ]
        }
      ]
    },
    {
      "cell_type": "markdown",
      "source": [
        "Tworzę obiekt perceptron. Następnie przekazuje dane z pliku do zmiennej df typu DataFrame i ucinam niepotrzebne wiersze (zostawiam tylko moje przypadki). Aby sprawdzić poprawność danych, wyświetlam 10 ostatnich wierszy."
      ],
      "metadata": {
        "id": "OwTsJ-MleqHi"
      }
    },
    {
      "cell_type": "code",
      "source": [
        "net = SLP()\n",
        "\n",
        "import io\n",
        "df = pd.read_csv(io.BytesIO(uploaded['letters.data']), header = None)\n",
        "#my_cases = '10 11 12 13 14 15 16 17 18 19'   # dane z przykładu\n",
        "my_cases = '2 4 8 9 12 13 14 17 20 23'\n",
        "my_cases = list(map(int, my_cases.split()))\n",
        "print(my_cases)\n",
        "df = df.iloc[my_cases]\n",
        "df.head(10)\n",
        "\n"
      ],
      "metadata": {
        "colab": {
          "base_uri": "https://localhost:8080/",
          "height": 410
        },
        "id": "uBp_4OzWhIrQ",
        "outputId": "03914555-172e-4d2c-d9a4-bba96ec360f0"
      },
      "execution_count": 5,
      "outputs": [
        {
          "output_type": "stream",
          "name": "stdout",
          "text": [
            "[2, 4, 8, 9, 12, 13, 14, 17, 20, 23]\n"
          ]
        },
        {
          "output_type": "execute_result",
          "data": {
            "text/plain": [
              "    0   1   2   3   4   5   6   7   8   9   ...  51  52  53  54  55  56  57  \\\n",
              "2   -1   1   1   1  -1   1  -1  -1  -1   1  ...  -1  -1  -1  -1  -1  -1  -1   \n",
              "4    1   1   1   1   1   1  -1  -1  -1  -1  ...  -1  -1  -1  -1  -1  -1  -1   \n",
              "8   -1   1   1   1  -1  -1  -1   1  -1  -1  ...  -1  -1  -1  -1  -1  -1  -1   \n",
              "9    1   1   1   1   1  -1  -1  -1  -1   1  ...  -1  -1  -1  -1  -1  -1  -1   \n",
              "12   1  -1  -1  -1   1   1   1  -1   1   1  ...  -1  -1  -1  -1  -1  -1  -1   \n",
              "13   1  -1  -1  -1   1   1  -1  -1  -1   1  ...  -1  -1  -1  -1  -1  -1  -1   \n",
              "14  -1   1   1   1  -1   1  -1  -1  -1   1  ...  -1  -1  -1  -1  -1  -1  -1   \n",
              "17   1   1   1   1  -1   1  -1  -1  -1   1  ...  -1   1  -1  -1  -1  -1  -1   \n",
              "20   1  -1  -1  -1   1   1  -1  -1  -1   1  ...  -1  -1  -1  -1   1  -1  -1   \n",
              "23   1  -1  -1  -1   1   1  -1  -1  -1   1  ...  -1  -1  -1  -1  -1  -1  -1   \n",
              "\n",
              "    58  59  60  \n",
              "2   -1  -1  -1  \n",
              "4   -1  -1  -1  \n",
              "8   -1  -1  -1  \n",
              "9   -1  -1  -1  \n",
              "12  -1  -1  -1  \n",
              "13  -1  -1  -1  \n",
              "14  -1  -1  -1  \n",
              "17  -1  -1  -1  \n",
              "20  -1  -1  -1  \n",
              "23   1  -1  -1  \n",
              "\n",
              "[10 rows x 61 columns]"
            ],
            "text/html": [
              "\n",
              "  <div id=\"df-aed4ce10-6851-4837-816c-d458b3a0c358\">\n",
              "    <div class=\"colab-df-container\">\n",
              "      <div>\n",
              "<style scoped>\n",
              "    .dataframe tbody tr th:only-of-type {\n",
              "        vertical-align: middle;\n",
              "    }\n",
              "\n",
              "    .dataframe tbody tr th {\n",
              "        vertical-align: top;\n",
              "    }\n",
              "\n",
              "    .dataframe thead th {\n",
              "        text-align: right;\n",
              "    }\n",
              "</style>\n",
              "<table border=\"1\" class=\"dataframe\">\n",
              "  <thead>\n",
              "    <tr style=\"text-align: right;\">\n",
              "      <th></th>\n",
              "      <th>0</th>\n",
              "      <th>1</th>\n",
              "      <th>2</th>\n",
              "      <th>3</th>\n",
              "      <th>4</th>\n",
              "      <th>5</th>\n",
              "      <th>6</th>\n",
              "      <th>7</th>\n",
              "      <th>8</th>\n",
              "      <th>9</th>\n",
              "      <th>...</th>\n",
              "      <th>51</th>\n",
              "      <th>52</th>\n",
              "      <th>53</th>\n",
              "      <th>54</th>\n",
              "      <th>55</th>\n",
              "      <th>56</th>\n",
              "      <th>57</th>\n",
              "      <th>58</th>\n",
              "      <th>59</th>\n",
              "      <th>60</th>\n",
              "    </tr>\n",
              "  </thead>\n",
              "  <tbody>\n",
              "    <tr>\n",
              "      <th>2</th>\n",
              "      <td>-1</td>\n",
              "      <td>1</td>\n",
              "      <td>1</td>\n",
              "      <td>1</td>\n",
              "      <td>-1</td>\n",
              "      <td>1</td>\n",
              "      <td>-1</td>\n",
              "      <td>-1</td>\n",
              "      <td>-1</td>\n",
              "      <td>1</td>\n",
              "      <td>...</td>\n",
              "      <td>-1</td>\n",
              "      <td>-1</td>\n",
              "      <td>-1</td>\n",
              "      <td>-1</td>\n",
              "      <td>-1</td>\n",
              "      <td>-1</td>\n",
              "      <td>-1</td>\n",
              "      <td>-1</td>\n",
              "      <td>-1</td>\n",
              "      <td>-1</td>\n",
              "    </tr>\n",
              "    <tr>\n",
              "      <th>4</th>\n",
              "      <td>1</td>\n",
              "      <td>1</td>\n",
              "      <td>1</td>\n",
              "      <td>1</td>\n",
              "      <td>1</td>\n",
              "      <td>1</td>\n",
              "      <td>-1</td>\n",
              "      <td>-1</td>\n",
              "      <td>-1</td>\n",
              "      <td>-1</td>\n",
              "      <td>...</td>\n",
              "      <td>-1</td>\n",
              "      <td>-1</td>\n",
              "      <td>-1</td>\n",
              "      <td>-1</td>\n",
              "      <td>-1</td>\n",
              "      <td>-1</td>\n",
              "      <td>-1</td>\n",
              "      <td>-1</td>\n",
              "      <td>-1</td>\n",
              "      <td>-1</td>\n",
              "    </tr>\n",
              "    <tr>\n",
              "      <th>8</th>\n",
              "      <td>-1</td>\n",
              "      <td>1</td>\n",
              "      <td>1</td>\n",
              "      <td>1</td>\n",
              "      <td>-1</td>\n",
              "      <td>-1</td>\n",
              "      <td>-1</td>\n",
              "      <td>1</td>\n",
              "      <td>-1</td>\n",
              "      <td>-1</td>\n",
              "      <td>...</td>\n",
              "      <td>-1</td>\n",
              "      <td>-1</td>\n",
              "      <td>-1</td>\n",
              "      <td>-1</td>\n",
              "      <td>-1</td>\n",
              "      <td>-1</td>\n",
              "      <td>-1</td>\n",
              "      <td>-1</td>\n",
              "      <td>-1</td>\n",
              "      <td>-1</td>\n",
              "    </tr>\n",
              "    <tr>\n",
              "      <th>9</th>\n",
              "      <td>1</td>\n",
              "      <td>1</td>\n",
              "      <td>1</td>\n",
              "      <td>1</td>\n",
              "      <td>1</td>\n",
              "      <td>-1</td>\n",
              "      <td>-1</td>\n",
              "      <td>-1</td>\n",
              "      <td>-1</td>\n",
              "      <td>1</td>\n",
              "      <td>...</td>\n",
              "      <td>-1</td>\n",
              "      <td>-1</td>\n",
              "      <td>-1</td>\n",
              "      <td>-1</td>\n",
              "      <td>-1</td>\n",
              "      <td>-1</td>\n",
              "      <td>-1</td>\n",
              "      <td>-1</td>\n",
              "      <td>-1</td>\n",
              "      <td>-1</td>\n",
              "    </tr>\n",
              "    <tr>\n",
              "      <th>12</th>\n",
              "      <td>1</td>\n",
              "      <td>-1</td>\n",
              "      <td>-1</td>\n",
              "      <td>-1</td>\n",
              "      <td>1</td>\n",
              "      <td>1</td>\n",
              "      <td>1</td>\n",
              "      <td>-1</td>\n",
              "      <td>1</td>\n",
              "      <td>1</td>\n",
              "      <td>...</td>\n",
              "      <td>-1</td>\n",
              "      <td>-1</td>\n",
              "      <td>-1</td>\n",
              "      <td>-1</td>\n",
              "      <td>-1</td>\n",
              "      <td>-1</td>\n",
              "      <td>-1</td>\n",
              "      <td>-1</td>\n",
              "      <td>-1</td>\n",
              "      <td>-1</td>\n",
              "    </tr>\n",
              "    <tr>\n",
              "      <th>13</th>\n",
              "      <td>1</td>\n",
              "      <td>-1</td>\n",
              "      <td>-1</td>\n",
              "      <td>-1</td>\n",
              "      <td>1</td>\n",
              "      <td>1</td>\n",
              "      <td>-1</td>\n",
              "      <td>-1</td>\n",
              "      <td>-1</td>\n",
              "      <td>1</td>\n",
              "      <td>...</td>\n",
              "      <td>-1</td>\n",
              "      <td>-1</td>\n",
              "      <td>-1</td>\n",
              "      <td>-1</td>\n",
              "      <td>-1</td>\n",
              "      <td>-1</td>\n",
              "      <td>-1</td>\n",
              "      <td>-1</td>\n",
              "      <td>-1</td>\n",
              "      <td>-1</td>\n",
              "    </tr>\n",
              "    <tr>\n",
              "      <th>14</th>\n",
              "      <td>-1</td>\n",
              "      <td>1</td>\n",
              "      <td>1</td>\n",
              "      <td>1</td>\n",
              "      <td>-1</td>\n",
              "      <td>1</td>\n",
              "      <td>-1</td>\n",
              "      <td>-1</td>\n",
              "      <td>-1</td>\n",
              "      <td>1</td>\n",
              "      <td>...</td>\n",
              "      <td>-1</td>\n",
              "      <td>-1</td>\n",
              "      <td>-1</td>\n",
              "      <td>-1</td>\n",
              "      <td>-1</td>\n",
              "      <td>-1</td>\n",
              "      <td>-1</td>\n",
              "      <td>-1</td>\n",
              "      <td>-1</td>\n",
              "      <td>-1</td>\n",
              "    </tr>\n",
              "    <tr>\n",
              "      <th>17</th>\n",
              "      <td>1</td>\n",
              "      <td>1</td>\n",
              "      <td>1</td>\n",
              "      <td>1</td>\n",
              "      <td>-1</td>\n",
              "      <td>1</td>\n",
              "      <td>-1</td>\n",
              "      <td>-1</td>\n",
              "      <td>-1</td>\n",
              "      <td>1</td>\n",
              "      <td>...</td>\n",
              "      <td>-1</td>\n",
              "      <td>1</td>\n",
              "      <td>-1</td>\n",
              "      <td>-1</td>\n",
              "      <td>-1</td>\n",
              "      <td>-1</td>\n",
              "      <td>-1</td>\n",
              "      <td>-1</td>\n",
              "      <td>-1</td>\n",
              "      <td>-1</td>\n",
              "    </tr>\n",
              "    <tr>\n",
              "      <th>20</th>\n",
              "      <td>1</td>\n",
              "      <td>-1</td>\n",
              "      <td>-1</td>\n",
              "      <td>-1</td>\n",
              "      <td>1</td>\n",
              "      <td>1</td>\n",
              "      <td>-1</td>\n",
              "      <td>-1</td>\n",
              "      <td>-1</td>\n",
              "      <td>1</td>\n",
              "      <td>...</td>\n",
              "      <td>-1</td>\n",
              "      <td>-1</td>\n",
              "      <td>-1</td>\n",
              "      <td>-1</td>\n",
              "      <td>1</td>\n",
              "      <td>-1</td>\n",
              "      <td>-1</td>\n",
              "      <td>-1</td>\n",
              "      <td>-1</td>\n",
              "      <td>-1</td>\n",
              "    </tr>\n",
              "    <tr>\n",
              "      <th>23</th>\n",
              "      <td>1</td>\n",
              "      <td>-1</td>\n",
              "      <td>-1</td>\n",
              "      <td>-1</td>\n",
              "      <td>1</td>\n",
              "      <td>1</td>\n",
              "      <td>-1</td>\n",
              "      <td>-1</td>\n",
              "      <td>-1</td>\n",
              "      <td>1</td>\n",
              "      <td>...</td>\n",
              "      <td>-1</td>\n",
              "      <td>-1</td>\n",
              "      <td>-1</td>\n",
              "      <td>-1</td>\n",
              "      <td>-1</td>\n",
              "      <td>-1</td>\n",
              "      <td>-1</td>\n",
              "      <td>1</td>\n",
              "      <td>-1</td>\n",
              "      <td>-1</td>\n",
              "    </tr>\n",
              "  </tbody>\n",
              "</table>\n",
              "<p>10 rows × 61 columns</p>\n",
              "</div>\n",
              "      <button class=\"colab-df-convert\" onclick=\"convertToInteractive('df-aed4ce10-6851-4837-816c-d458b3a0c358')\"\n",
              "              title=\"Convert this dataframe to an interactive table.\"\n",
              "              style=\"display:none;\">\n",
              "        \n",
              "  <svg xmlns=\"http://www.w3.org/2000/svg\" height=\"24px\"viewBox=\"0 0 24 24\"\n",
              "       width=\"24px\">\n",
              "    <path d=\"M0 0h24v24H0V0z\" fill=\"none\"/>\n",
              "    <path d=\"M18.56 5.44l.94 2.06.94-2.06 2.06-.94-2.06-.94-.94-2.06-.94 2.06-2.06.94zm-11 1L8.5 8.5l.94-2.06 2.06-.94-2.06-.94L8.5 2.5l-.94 2.06-2.06.94zm10 10l.94 2.06.94-2.06 2.06-.94-2.06-.94-.94-2.06-.94 2.06-2.06.94z\"/><path d=\"M17.41 7.96l-1.37-1.37c-.4-.4-.92-.59-1.43-.59-.52 0-1.04.2-1.43.59L10.3 9.45l-7.72 7.72c-.78.78-.78 2.05 0 2.83L4 21.41c.39.39.9.59 1.41.59.51 0 1.02-.2 1.41-.59l7.78-7.78 2.81-2.81c.8-.78.8-2.07 0-2.86zM5.41 20L4 18.59l7.72-7.72 1.47 1.35L5.41 20z\"/>\n",
              "  </svg>\n",
              "      </button>\n",
              "      \n",
              "  <style>\n",
              "    .colab-df-container {\n",
              "      display:flex;\n",
              "      flex-wrap:wrap;\n",
              "      gap: 12px;\n",
              "    }\n",
              "\n",
              "    .colab-df-convert {\n",
              "      background-color: #E8F0FE;\n",
              "      border: none;\n",
              "      border-radius: 50%;\n",
              "      cursor: pointer;\n",
              "      display: none;\n",
              "      fill: #1967D2;\n",
              "      height: 32px;\n",
              "      padding: 0 0 0 0;\n",
              "      width: 32px;\n",
              "    }\n",
              "\n",
              "    .colab-df-convert:hover {\n",
              "      background-color: #E2EBFA;\n",
              "      box-shadow: 0px 1px 2px rgba(60, 64, 67, 0.3), 0px 1px 3px 1px rgba(60, 64, 67, 0.15);\n",
              "      fill: #174EA6;\n",
              "    }\n",
              "\n",
              "    [theme=dark] .colab-df-convert {\n",
              "      background-color: #3B4455;\n",
              "      fill: #D2E3FC;\n",
              "    }\n",
              "\n",
              "    [theme=dark] .colab-df-convert:hover {\n",
              "      background-color: #434B5C;\n",
              "      box-shadow: 0px 1px 3px 1px rgba(0, 0, 0, 0.15);\n",
              "      filter: drop-shadow(0px 1px 2px rgba(0, 0, 0, 0.3));\n",
              "      fill: #FFFFFF;\n",
              "    }\n",
              "  </style>\n",
              "\n",
              "      <script>\n",
              "        const buttonEl =\n",
              "          document.querySelector('#df-aed4ce10-6851-4837-816c-d458b3a0c358 button.colab-df-convert');\n",
              "        buttonEl.style.display =\n",
              "          google.colab.kernel.accessAllowed ? 'block' : 'none';\n",
              "\n",
              "        async function convertToInteractive(key) {\n",
              "          const element = document.querySelector('#df-aed4ce10-6851-4837-816c-d458b3a0c358');\n",
              "          const dataTable =\n",
              "            await google.colab.kernel.invokeFunction('convertToInteractive',\n",
              "                                                     [key], {});\n",
              "          if (!dataTable) return;\n",
              "\n",
              "          const docLinkHtml = 'Like what you see? Visit the ' +\n",
              "            '<a target=\"_blank\" href=https://colab.research.google.com/notebooks/data_table.ipynb>data table notebook</a>'\n",
              "            + ' to learn more about interactive tables.';\n",
              "          element.innerHTML = '';\n",
              "          dataTable['output_type'] = 'display_data';\n",
              "          await google.colab.output.renderOutput(dataTable, element);\n",
              "          const docLink = document.createElement('div');\n",
              "          docLink.innerHTML = docLinkHtml;\n",
              "          element.appendChild(docLink);\n",
              "        }\n",
              "      </script>\n",
              "    </div>\n",
              "  </div>\n",
              "  "
            ]
          },
          "metadata": {},
          "execution_count": 5
        }
      ]
    },
    {
      "cell_type": "markdown",
      "source": [
        "Następnie rozdzielam każdy wiersz na dane litery przechowywane w 'X' oraz dane odpowiedzi przechowywane w 'y'. Dodatkowo, ucinam wszystkie niepotrzebne kolumny ze zmiennej 'y' (nie ma sensu trzymać np. kolumny o indeksie 3, jeżeli wiersz 3 i tak został ucięty). Na końcu wyświetlam zawartość obu zmiennych."
      ],
      "metadata": {
        "id": "yb0IMMnOfNH3"
      }
    },
    {
      "cell_type": "code",
      "source": [
        "X = df.iloc[:, :35].values\n",
        "y = df.iloc[:, 35:].values\n",
        "y = y[:, my_cases]\n",
        "\n",
        "print(X)\n",
        "print('\\n\\n')\n",
        "print(y)"
      ],
      "metadata": {
        "id": "cPUQ-56Jj7iV",
        "colab": {
          "base_uri": "https://localhost:8080/"
        },
        "outputId": "adb7570c-fdab-4ece-90f2-57e4d2d76345"
      },
      "execution_count": 6,
      "outputs": [
        {
          "output_type": "stream",
          "name": "stdout",
          "text": [
            "[[-1  1  1  1 -1  1 -1 -1 -1  1  1 -1 -1 -1 -1  1 -1 -1 -1 -1  1 -1 -1 -1\n",
            "  -1  1 -1 -1 -1  1 -1  1  1  1 -1]\n",
            " [ 1  1  1  1  1  1 -1 -1 -1 -1  1 -1 -1 -1 -1  1  1  1  1 -1  1 -1 -1 -1\n",
            "  -1  1 -1 -1 -1 -1  1  1  1  1  1]\n",
            " [-1  1  1  1 -1 -1 -1  1 -1 -1 -1 -1  1 -1 -1 -1 -1  1 -1 -1 -1 -1  1 -1\n",
            "  -1 -1 -1  1 -1 -1 -1  1  1  1 -1]\n",
            " [ 1  1  1  1  1 -1 -1 -1 -1  1 -1 -1 -1 -1  1 -1 -1 -1 -1  1 -1 -1 -1 -1\n",
            "   1  1 -1 -1 -1  1 -1  1  1  1 -1]\n",
            " [ 1 -1 -1 -1  1  1  1 -1  1  1  1 -1  1 -1  1  1 -1 -1 -1  1  1 -1 -1 -1\n",
            "   1  1 -1 -1 -1  1  1 -1 -1 -1  1]\n",
            " [ 1 -1 -1 -1  1  1 -1 -1 -1  1  1  1 -1 -1  1  1 -1  1 -1  1  1 -1 -1  1\n",
            "   1  1 -1 -1 -1  1  1 -1 -1 -1  1]\n",
            " [-1  1  1  1 -1  1 -1 -1 -1  1  1 -1 -1 -1  1  1 -1 -1 -1  1  1 -1 -1 -1\n",
            "   1  1 -1 -1 -1  1 -1  1  1  1 -1]\n",
            " [ 1  1  1  1 -1  1 -1 -1 -1  1  1 -1 -1 -1  1  1  1  1  1 -1  1 -1  1 -1\n",
            "  -1  1 -1 -1  1 -1  1 -1 -1 -1  1]\n",
            " [ 1 -1 -1 -1  1  1 -1 -1 -1  1  1 -1 -1 -1  1  1 -1 -1 -1  1  1 -1 -1 -1\n",
            "   1  1 -1 -1 -1  1 -1  1  1  1 -1]\n",
            " [ 1 -1 -1 -1  1  1 -1 -1 -1  1 -1  1 -1  1 -1 -1 -1  1 -1 -1 -1  1 -1  1\n",
            "  -1  1 -1 -1 -1  1  1 -1 -1 -1  1]]\n",
            "\n",
            "\n",
            "\n",
            "[[ 1 -1 -1 -1 -1 -1 -1 -1 -1 -1]\n",
            " [-1  1 -1 -1 -1 -1 -1 -1 -1 -1]\n",
            " [-1 -1  1 -1 -1 -1 -1 -1 -1 -1]\n",
            " [-1 -1 -1  1 -1 -1 -1 -1 -1 -1]\n",
            " [-1 -1 -1 -1  1 -1 -1 -1 -1 -1]\n",
            " [-1 -1 -1 -1 -1  1 -1 -1 -1 -1]\n",
            " [-1 -1 -1 -1 -1 -1  1 -1 -1 -1]\n",
            " [-1 -1 -1 -1 -1 -1 -1  1 -1 -1]\n",
            " [-1 -1 -1 -1 -1 -1 -1 -1  1 -1]\n",
            " [-1 -1 -1 -1 -1 -1 -1 -1 -1  1]]\n"
          ]
        }
      ]
    },
    {
      "cell_type": "markdown",
      "source": [
        "Wyświetlam wylosowane dla mnie litery."
      ],
      "metadata": {
        "id": "bsiuhRD8f9cv"
      }
    },
    {
      "cell_type": "code",
      "source": [
        "net.show(X)"
      ],
      "metadata": {
        "colab": {
          "base_uri": "https://localhost:8080/",
          "height": 658
        },
        "id": "-eKKsR7ByqyM",
        "outputId": "bc0440b8-b024-4bb8-89d0-169678818f37"
      },
      "execution_count": 7,
      "outputs": [
        {
          "output_type": "display_data",
          "data": {
            "text/plain": [
              "<Figure size 1400x800 with 10 Axes>"
            ],
            "image/png": "[encoded data removed]"
          },
          "metadata": {}
        }
      ]
    },
    {
      "cell_type": "markdown",
      "source": [
        "## Uczenie modelu"
      ],
      "metadata": {
        "id": "SIcw_54vgDTx"
      }
    },
    {
      "cell_type": "markdown",
      "source": [
        "Cały proces uczenia odbywa się w komórce poniżej, lecz w tej sekcji uwzględnie dodatkowo resultat uczenia się modelu oraz wykres zmian wag modelu."
      ],
      "metadata": {
        "id": "ARZO0BsVgNue"
      }
    },
    {
      "cell_type": "code",
      "source": [
        "net.fit(X, y)"
      ],
      "metadata": {
        "id": "dAPuAQvH6U6T"
      },
      "execution_count": 8,
      "outputs": []
    },
    {
      "cell_type": "markdown",
      "source": [
        "Wywołuje metodę ```net.predict(X)``` , aby uzyskać od modelu odpowiedzi."
      ],
      "metadata": {
        "id": "8QjDmmcsgqVL"
      }
    },
    {
      "cell_type": "code",
      "source": [
        "print(net.predict(X))"
      ],
      "metadata": {
        "colab": {
          "base_uri": "https://localhost:8080/"
        },
        "id": "Fic_UfnzgGL3",
        "outputId": "4ca717e8-c48b-4ca8-f14f-b577ca304142"
      },
      "execution_count": 9,
      "outputs": [
        {
          "output_type": "stream",
          "name": "stdout",
          "text": [
            "[[ 1. -1. -1. -1. -1. -1. -1. -1. -1. -1.]\n",
            " [-1.  1. -1. -1. -1. -1. -1. -1. -1. -1.]\n",
            " [-1. -1.  1. -1. -1. -1. -1. -1. -1. -1.]\n",
            " [-1. -1. -1.  1. -1. -1. -1. -1. -1. -1.]\n",
            " [-1. -1. -1. -1.  1. -1. -1. -1. -1. -1.]\n",
            " [-1. -1. -1. -1. -1.  1. -1. -1. -1. -1.]\n",
            " [-1. -1. -1. -1. -1. -1.  1. -1. -1. -1.]\n",
            " [-1. -1. -1. -1. -1. -1. -1.  1. -1. -1.]\n",
            " [-1. -1. -1. -1. -1. -1. -1. -1.  1. -1.]\n",
            " [-1. -1. -1. -1. -1. -1. -1. -1. -1.  1.]]\n"
          ]
        }
      ]
    },
    {
      "cell_type": "markdown",
      "source": [
        "Sprawdzam także, ile zmian nastąpiło podczas każdej iteracji. Liczba '0' w kilku ostatnich iteracjach najczęsciej oznacza (nie zawsze), że wagi mają już prawidłowe wartości, a model działa prawidłowo."
      ],
      "metadata": {
        "id": "SCWOcqE6g7FD"
      }
    },
    {
      "cell_type": "code",
      "source": [
        "print(net.errors_)\n",
        "plt.plot(range(0, len(net.errors_) ), net.errors_, marker='o')\n",
        "plt.xlabel('Epochs')\n",
        "plt.ylabel('Number of updates')\n",
        "plt.show()"
      ],
      "metadata": {
        "colab": {
          "base_uri": "https://localhost:8080/",
          "height": 467
        },
        "id": "t6k61lHGgIli",
        "outputId": "e4a24e34-757c-4e96-c01d-ae2e16c1ef14"
      },
      "execution_count": 10,
      "outputs": [
        {
          "output_type": "stream",
          "name": "stdout",
          "text": [
            "[29, 14, 8, 2, 0, 0, 0, 0, 0, 0]\n"
          ]
        },
        {
          "output_type": "display_data",
          "data": {
            "text/plain": [
              "<Figure size 640x480 with 1 Axes>"
            ],
            "image/png": "[encoded data removed]"
          },
          "metadata": {}
        }
      ]
    },
    {
      "cell_type": "markdown",
      "source": [
        "Sprawdzam, czy model popełnił jakieś błędy."
      ],
      "metadata": {
        "id": "Mm-6S_kchpK6"
      }
    },
    {
      "cell_type": "code",
      "source": [
        "print(net.misclassified(X, y))"
      ],
      "metadata": {
        "colab": {
          "base_uri": "https://localhost:8080/"
        },
        "id": "2L1PGQXdgOV1",
        "outputId": "8e266675-4315-4c80-8a73-3902595f3a7f"
      },
      "execution_count": 12,
      "outputs": [
        {
          "output_type": "stream",
          "name": "stdout",
          "text": [
            "0\n"
          ]
        }
      ]
    },
    {
      "cell_type": "markdown",
      "source": [
        "## Testowanie możliwości modelu\n",
        "\n",
        "Definiuje funckję ```damage(X, percent, seed=1)```."
      ],
      "metadata": {
        "id": "_B5Y3xqRh1yL"
      }
    },
    {
      "cell_type": "code",
      "source": [
        "def damage(X, percent, seed=1):\n",
        "  rgen = np.random.RandomState(seed)\n",
        "  result = np.array(X)\n",
        "  count = int(X.shape[1]*percent/100)\n",
        "\n",
        "  for indeks_example in range(len(X)):\n",
        "    order = np.sort(rgen.choice(X.shape[1], count, replace=False))\n",
        "    for indeks_pixel in order:\n",
        "      result[indeks_example][indeks_pixel] *= -1\n",
        "  \n",
        "  return result"
      ],
      "metadata": {
        "id": "2yoJgPshiKRp"
      },
      "execution_count": 13,
      "outputs": []
    },
    {
      "cell_type": "markdown",
      "source": [
        "Następnie tworze 3 dodatkowe zbiory, uszkodzone o kolejno:\n",
        "- 5%\n",
        "- 15%\n",
        "- 40%\n"
      ],
      "metadata": {
        "id": "xerwBwVDiQa2"
      }
    },
    {
      "cell_type": "code",
      "source": [
        "damaged5 = damage(X, 5)\n",
        "damaged15 = damage(X, 15)\n",
        "damaged40 = damage(X, 40) "
      ],
      "metadata": {
        "id": "5NqzLxQFi6Qh"
      },
      "execution_count": 14,
      "outputs": []
    },
    {
      "cell_type": "markdown",
      "source": [
        "Wyświetlam graficznie pierwszy zbiór."
      ],
      "metadata": {
        "id": "DRttQjtwiY2h"
      }
    },
    {
      "cell_type": "code",
      "source": [
        "net.show(damaged5)"
      ],
      "metadata": {
        "colab": {
          "base_uri": "https://localhost:8080/",
          "height": 658
        },
        "id": "__MZFfLAjCF8",
        "outputId": "749a84b1-f3c7-4eaa-f639-7fb8fe2a1137"
      },
      "execution_count": 15,
      "outputs": [
        {
          "output_type": "display_data",
          "data": {
            "text/plain": [
              "<Figure size 1400x800 with 10 Axes>"
            ],
            "image/png": "[encoded data removed]"
          },
          "metadata": {}
        }
      ]
    },
    {
      "cell_type": "markdown",
      "source": [
        "Wywołuje metodę predict przekazując uszkodzony zbiór."
      ],
      "metadata": {
        "id": "JB0bUt8Bicw0"
      }
    },
    {
      "cell_type": "code",
      "source": [
        "print(net.predict(damaged5))"
      ],
      "metadata": {
        "colab": {
          "base_uri": "https://localhost:8080/"
        },
        "id": "x-85f9h7jILo",
        "outputId": "df132bf5-01ee-4d0b-a1ca-864b50bccd41"
      },
      "execution_count": 16,
      "outputs": [
        {
          "output_type": "stream",
          "name": "stdout",
          "text": [
            "[[-1. -1. -1. -1. -1. -1. -1. -1. -1. -1.]\n",
            " [-1.  1. -1. -1. -1. -1. -1. -1. -1. -1.]\n",
            " [-1. -1.  1. -1. -1. -1. -1. -1. -1. -1.]\n",
            " [-1. -1. -1.  1. -1. -1. -1. -1. -1. -1.]\n",
            " [-1. -1. -1. -1.  1. -1. -1. -1. -1. -1.]\n",
            " [-1. -1. -1. -1. -1.  1. -1. -1. -1. -1.]\n",
            " [-1. -1. -1. -1. -1. -1. -1. -1. -1. -1.]\n",
            " [-1. -1. -1. -1. -1. -1. -1.  1. -1. -1.]\n",
            " [-1. -1. -1. -1. -1. -1. -1. -1.  1. -1.]\n",
            " [-1. -1. -1. -1. -1. -1. -1. -1. -1.  1.]]\n"
          ]
        }
      ]
    },
    {
      "cell_type": "markdown",
      "source": [
        "Wywołuje metode misclassified, aby sprawdzić ile błędów zostało popełnionych podczas ostatniej predykcji.\n",
        "\n",
        "Jak widać 2 razy litera została źle zinterpretowana przez jakiś perceptron."
      ],
      "metadata": {
        "id": "yHbgpHiyiirj"
      }
    },
    {
      "cell_type": "code",
      "source": [
        "print(net.misclassified(damaged5, y))"
      ],
      "metadata": {
        "colab": {
          "base_uri": "https://localhost:8080/"
        },
        "id": "Aoo_15gRjMWA",
        "outputId": "31b787e2-9e99-4d1e-a4f0-449647ea90ca"
      },
      "execution_count": 17,
      "outputs": [
        {
          "output_type": "stream",
          "name": "stdout",
          "text": [
            "2\n"
          ]
        }
      ]
    },
    {
      "cell_type": "markdown",
      "source": [
        "W następnych linijkach powtarzam powyższe kroki dla zestawów ```damage15``` oraz ```damage40```."
      ],
      "metadata": {
        "id": "ztfwkMoOjRJz"
      }
    },
    {
      "cell_type": "code",
      "source": [
        "net.show(damaged15)"
      ],
      "metadata": {
        "colab": {
          "base_uri": "https://localhost:8080/",
          "height": 658
        },
        "id": "kaR3EzwXlGjp",
        "outputId": "3dc23128-6617-4115-97b1-362be5f332a0"
      },
      "execution_count": 18,
      "outputs": [
        {
          "output_type": "display_data",
          "data": {
            "text/plain": [
              "<Figure size 1400x800 with 10 Axes>"
            ],
            "image/png": "[encoded data removed]"
          },
          "metadata": {}
        }
      ]
    },
    {
      "cell_type": "code",
      "source": [
        "print(net.predict(damaged15))"
      ],
      "metadata": {
        "colab": {
          "base_uri": "https://localhost:8080/"
        },
        "id": "qs_Pv_vAk8Wv",
        "outputId": "816dce78-168d-44b1-9259-5aa7de52d1bf"
      },
      "execution_count": 19,
      "outputs": [
        {
          "output_type": "stream",
          "name": "stdout",
          "text": [
            "[[-1. -1. -1. -1. -1. -1. -1. -1. -1. -1.]\n",
            " [-1.  1. -1. -1. -1. -1. -1. -1. -1. -1.]\n",
            " [-1. -1.  1. -1. -1. -1. -1. -1. -1. -1.]\n",
            " [-1. -1. -1.  1. -1. -1. -1. -1. -1. -1.]\n",
            " [-1. -1. -1. -1. -1. -1. -1. -1. -1. -1.]\n",
            " [-1. -1. -1. -1. -1.  1. -1. -1. -1. -1.]\n",
            " [-1. -1. -1. -1. -1. -1. -1. -1. -1. -1.]\n",
            " [-1. -1. -1. -1. -1. -1. -1.  1. -1. -1.]\n",
            " [-1. -1. -1. -1. -1. -1. -1. -1. -1. -1.]\n",
            " [-1. -1. -1. -1. -1. -1. -1. -1. -1. -1.]]\n"
          ]
        }
      ]
    },
    {
      "cell_type": "markdown",
      "source": [
        "Tym razem 5 błędów."
      ],
      "metadata": {
        "id": "91kpLI_4jfMa"
      }
    },
    {
      "cell_type": "code",
      "source": [
        "print(net.misclassified(damaged15, y))"
      ],
      "metadata": {
        "colab": {
          "base_uri": "https://localhost:8080/"
        },
        "id": "6QINROP2k-Xs",
        "outputId": "291418ea-41f4-41ce-f68d-f1dcfd3f80e3"
      },
      "execution_count": null,
      "outputs": [
        {
          "output_type": "stream",
          "name": "stdout",
          "text": [
            "5\n"
          ]
        }
      ]
    },
    {
      "cell_type": "code",
      "source": [
        "net.show(damaged40)"
      ],
      "metadata": {
        "colab": {
          "base_uri": "https://localhost:8080/",
          "height": 658
        },
        "id": "hfV3YGu8lHYz",
        "outputId": "d7254c52-9e82-4b97-f505-1fce38fdc7b8"
      },
      "execution_count": 20,
      "outputs": [
        {
          "output_type": "display_data",
          "data": {
            "text/plain": [
              "<Figure size 1400x800 with 10 Axes>"
            ],
            "image/png": "[encoded data removed]"
          },
          "metadata": {}
        }
      ]
    },
    {
      "cell_type": "code",
      "source": [
        "print(net.predict(damaged40))"
      ],
      "metadata": {
        "colab": {
          "base_uri": "https://localhost:8080/"
        },
        "id": "mWsLUwd3k_we",
        "outputId": "5a3ae931-d29c-4016-eb30-21b659dc5757"
      },
      "execution_count": 21,
      "outputs": [
        {
          "output_type": "stream",
          "name": "stdout",
          "text": [
            "[[-1. -1.  1. -1. -1. -1. -1. -1. -1.  1.]\n",
            " [-1. -1.  1.  1. -1. -1. -1. -1. -1.  1.]\n",
            " [-1. -1.  1. -1. -1. -1.  1.  1. -1. -1.]\n",
            " [-1. -1.  1. -1. -1. -1. -1. -1. -1. -1.]\n",
            " [-1. -1.  1. -1. -1. -1. -1.  1. -1. -1.]\n",
            " [ 1. -1. -1. -1. -1. -1.  1. -1. -1. -1.]\n",
            " [-1. -1.  1. -1. -1. -1.  1. -1.  1.  1.]\n",
            " [ 1. -1.  1. -1. -1.  1. -1.  1. -1. -1.]\n",
            " [ 1. -1. -1.  1. -1. -1. -1. -1. -1. -1.]\n",
            " [-1. -1.  1. -1. -1. -1. -1.  1. -1. -1.]]\n"
          ]
        }
      ]
    },
    {
      "cell_type": "markdown",
      "source": [
        "Aż 29 błędów (większość perceptronów reaguje pozytywnie na więcej niż jedną literę z zestawu damaged40)."
      ],
      "metadata": {
        "id": "tq-aHdTxjhNy"
      }
    },
    {
      "cell_type": "code",
      "source": [
        "print(net.misclassified(damaged40, y))"
      ],
      "metadata": {
        "colab": {
          "base_uri": "https://localhost:8080/"
        },
        "id": "RiksRXjklBAg",
        "outputId": "0b717dca-6cea-4d17-b66d-20f7940ae4a9"
      },
      "execution_count": 22,
      "outputs": [
        {
          "output_type": "stream",
          "name": "stdout",
          "text": [
            "29\n"
          ]
        }
      ]
    }
  ]
}